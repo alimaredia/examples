{
 "cells": [
  {
   "cell_type": "markdown",
   "id": "af99f876-0ffd-4079-aeb7-4cead05daaf4",
   "metadata": {},
   "source": [
    "# 🐶 Data Pre-Processing: From source PDF to SDG-ready\n",
    "\n",
    "This notebook goes through each of the stages of data pre-processing. Directory-based conventions are used to save intermediate results as a PDF is converted and chunked and QA generation is performed to create a `qna.yaml` file for each knowledge contribution. At the end everything is combined into the inputs for SDG.\n",
    "\n",
    "Once a SDG seed dataset is created, a user can run through an SDG notebook and generate samples.\n",
    "\n",
    "**NOTE**: Starting the notebook using Python 3.11 is recommended. Python 3.12 or later are not yet supported. \n",
    "\n",
    "1. [Data Gathering](#Data-Gathering)\n",
    "1. [Document Conversion](#Document-Conversion)\n",
    "1. [Chunking](#Chunking)\n",
    "1. [Authoring](#Authoring)\n",
    "1. [Create Seed Dataset](#Create-Seed-Dataset-for-SDG)\n",
    "\n",
    "***"
   ]
  },
  {
   "cell_type": "code",
   "execution_count": 2,
   "id": "0acd026f-65bd-4393-bb40-f8aa8bd6828b",
   "metadata": {},
   "outputs": [],
   "source": [
    "from pathlib import Path\n",
    "\n",
    "WORKSPACE_NAME = \"default\"\n",
    "\n",
    "WORKSPACE_ROOT = Path(\"workspaces\")\n",
    "WORKSPACE_ROOT.mkdir(exist_ok=True)\n",
    "\n",
    "WORKSPACE_DIR = WORKSPACE_ROOT / WORKSPACE_NAME\n",
    "WORKSPACE_DIR.mkdir(exist_ok=True)\n",
    "\n",
    "SOURCE_DOCUMENT_DIR = WORKSPACE_DIR / \"source_documents\"\n",
    "SOURCE_DOCUMENT_DIR.mkdir(parents=True, exist_ok=True)\n",
    "\n",
    "CONVERSION_OUTPUT_DIR = WORKSPACE_DIR / \"conversion\"\n",
    "CONVERSION_OUTPUT_DIR.mkdir(parents=True, exist_ok=True)\n",
    "\n",
    "CHUNKING_OUTPUT_DIR = WORKSPACE_DIR / \"chunking\"\n",
    "CHUNKING_OUTPUT_DIR.mkdir(exist_ok=True)\n",
    "\n",
    "AUTHORING_OUTPUT_DIR = WORKSPACE_DIR / \"authoring\"\n",
    "AUTHORING_OUTPUT_DIR.mkdir(exist_ok=True)\n",
    "\n",
    "SDG_OUTPUT_DIR = WORKSPACE_DIR / \"sdg\"\n",
    "SDG_OUTPUT_DIR.mkdir(exist_ok=True)"
   ]
  },
  {
   "cell_type": "markdown",
   "id": "344b7ac5-fc2a-40a8-8e1f-e8dd8b1153e7",
   "metadata": {},
   "source": [
    "## Data Gathering\n",
    "\n",
    "TODO: Add documentation about domain and summary here, clear out second contribution example"
   ]
  },
  {
   "cell_type": "code",
   "execution_count": 18,
   "id": "26501e2f-7215-441f-9efa-075f87024893",
   "metadata": {},
   "outputs": [
    {
     "name": "stdout",
     "output_type": "stream",
     "text": [
      "Files to convert:\n",
      "[PosixPath('workspaces/default/source_documents/nfl/2022-nfl-rulebook-final.pdf')]\n",
      "[PosixPath('workspaces/default/source_documents/finance/BofA_InterestChecking_en_ADA.pdf'), PosixPath('workspaces/default/source_documents/finance/Advantag Savings.pdf')]\n"
     ]
    }
   ],
   "source": [
    "# struct would have document outline, domain, and path to pdf's for each contribution\n",
    "\n",
    "contribution_path = Path(SOURCE_DOCUMENT_DIR / \"nfl\")\n",
    "contribution_prefix = \"nfl\"\n",
    "contribution_domain = \"sports\" \n",
    "contribution_summary = \"Official playing rules of the National Football League 2022\"\n",
    "\n",
    "contribution1 = {\"path\": contribution_path, \"prefix\": contribution_prefix, \"domain\": contribution_domain, \"summary\": contribution_summary}\n",
    "\n",
    "contribution_path2 = Path(SOURCE_DOCUMENT_DIR / \"finance\")\n",
    "contribution_prefix2 = \"finance\"\n",
    "contribution_domain2 = \"banking\" \n",
    "contribution_summary2 = \"Account information for a specific bank\"\n",
    "\n",
    "contribution2 = {\"path\": contribution_path2, \"prefix\": contribution_prefix2, \"domain\": contribution_domain2, \"summary\": contribution_summary2}\n",
    "\n",
    "contributions = []\n",
    "contributions.append(contribution1)\n",
    "contributions.append(contribution2)\n",
    "\n",
    "for contribution in contributions:\n",
    "    contribution[\"files\"] = list(contribution[\"path\"].glob(\"*.pdf\"))\n",
    "\n",
    "print(f\"Files to convert:\")\n",
    "for contribution in contributions:\n",
    "    print(f\"{contribution[\"files\"]}\")\n",
    "    conv_output_dir = CONVERSION_OUTPUT_DIR / contribution[\"prefix\"]\n",
    "    conv_output_dir.mkdir(parents=True, exist_ok=True)\n",
    "\n",
    "    chunking_output_dir = CHUNKING_OUTPUT_DIR / contribution[\"prefix\"]\n",
    "    chunking_output_dir.mkdir(parents=True, exist_ok=True)\n",
    "\n",
    "    authoring_output_dir = AUTHORING_OUTPUT_DIR / contribution[\"prefix\"]\n",
    "    authoring_output_dir.mkdir(parents=True, exist_ok=True)"
   ]
  },
  {
   "cell_type": "markdown",
   "id": "8a4904e6-8e12-4473-8301-cba90e61bd8b",
   "metadata": {},
   "source": [
    "## Document Conversion\n",
    "\n",
    "This notebook uses [Docling](https://github.com/docling-project/docling) to convert any type of document into a Docling Document. A Docling Document is the representation of the document after conversion that can be exported as JSON. The JSON output of this notebook can then be used in others such as one that uses Docling's chunking methods."
   ]
  },
  {
   "cell_type": "code",
   "execution_count": 5,
   "id": "b91d4b2e-19cd-46e7-a912-ba9b2904c7cd",
   "metadata": {},
   "outputs": [],
   "source": [
    "!pip install -qq docling"
   ]
  },
  {
   "cell_type": "markdown",
   "id": "749fb64b-d089-4844-9330-7f3639819e7a",
   "metadata": {},
   "source": [
    "### Configure Docling conversion pipeline\n",
    "\n",
    "Next we set the configuration options for our conversion pipeline. The PDF Conversion options set here are the defaults. More information about pipeline configuration can be found on Docling.\n",
    "\n",
    "For a complete reference on Docling conversion pipeline configuration, see [PDFPipelineOptions](https://docling-project.github.io/docling/reference/pipeline_options/#docling.datamodel.pipeline_options.PdfPipelineOptions) and [PDFFormatOptions](https://docling-project.github.io/docling/reference/document_converter/#docling.document_converter.InputFormat.XML_JATS)."
   ]
  },
  {
   "cell_type": "code",
   "execution_count": 6,
   "id": "157c5e02-edd1-44f6-b20f-f6b4bda1aae7",
   "metadata": {},
   "outputs": [],
   "source": [
    "from docling.document_converter import DocumentConverter, PdfFormatOption\n",
    "from docling.datamodel.base_models import InputFormat\n",
    "from docling.datamodel.pipeline_options import PdfPipelineOptions\n",
    "\n",
    "pipeline_options = PdfPipelineOptions() # TODO: show the options that can be set\n",
    "\n",
    "doc_converter = DocumentConverter(\n",
    "    format_options={\n",
    "        InputFormat.PDF: PdfFormatOption(\n",
    "            pipeline_options=pipeline_options\n",
    "        )\n",
    "    }\n",
    ")"
   ]
  },
  {
   "cell_type": "markdown",
   "id": "73400c74-dead-4998-aee2-ddb00ddaa276",
   "metadata": {},
   "source": [
    "Finally, we convert every document into Docling JSON as long as it is a valid file type to be converted"
   ]
  },
  {
   "cell_type": "code",
   "execution_count": 19,
   "id": "a200039c-b8b2-4087-88ba-7bfb0e393cc9",
   "metadata": {},
   "outputs": [
    {
     "name": "stdout",
     "output_type": "stream",
     "text": [
      "Path of JSON output is: /Users/amaredia/dev/examples/notebooks/instructlab-knowledge/workspaces/default/conversion/nfl/2022-nfl-rulebook-final.json\n",
      "Path of JSON output is: /Users/amaredia/dev/examples/notebooks/instructlab-knowledge/workspaces/default/conversion/finance/BofA_InterestChecking_en_ADA.json\n",
      "Path of JSON output is: /Users/amaredia/dev/examples/notebooks/instructlab-knowledge/workspaces/default/conversion/finance/Advantag Savings.json\n"
     ]
    }
   ],
   "source": [
    "import json\n",
    "\n",
    "for contribution in contributions:\n",
    "    contribution[\"json_files\"] = []\n",
    "    for file in contribution[\"files\"]:\n",
    "        doc = doc_converter.convert(source=file).document\n",
    "        doc_dict = doc.export_to_dict()\n",
    "    \n",
    "        json_output_path = CONVERSION_OUTPUT_DIR / contribution[\"prefix\"] / f\"{file.stem}.json\"\n",
    "        with open(json_output_path, \"w\") as f:\n",
    "            json.dump(doc_dict, f)\n",
    "            print(f\"Path of JSON output is: {Path(json_output_path).resolve()}\")\n",
    "            json_files.append(json_output_path.resolve())"
   ]
  },
  {
   "cell_type": "markdown",
   "id": "cafad55e-a4c0-4d6e-9da0-49519fa9bf74",
   "metadata": {},
   "source": [
    "## Chunking\n",
    "\n",
    "The goal of chunking the converted documents is to provide the teacher model small and logical pieces of the source document to generate data off of.\n",
    "\n",
    "In this notebook we are doing chunking with [Docling](https://docling-project.github.io/docling/examples/hybrid_chunking/#hybrid-chunking).\n",
    "\n",
    "The input to this notebook is a docling JSON file created after a docling conversion, or a directory of docling JSON files."
   ]
  },
  {
   "cell_type": "markdown",
   "id": "2482060c-a49f-4345-aa47-d54301939387",
   "metadata": {},
   "source": [
    "### Initialize the Chunker\n",
    "\n",
    "Docling provides two chunkers, the `HierarchicalChunker` and the `HybridChunker`.\n",
    "The `HierarchicalChunker` creates chunks based on the hierarchy in the Docling document\n",
    "\n",
    "The `HybridChunker` builds on the `HierarchicalChunker` and by making it tokenization aware.\n",
    "\n",
    "The `HybridChunker` has options for a `tokenizer`, the `max_tokens` in a chunk, and whether to merge undersized peer chunks. Uncomment the commented out code to configure these."
   ]
  },
  {
   "cell_type": "code",
   "execution_count": 20,
   "id": "50df9d91-add4-46a1-a69d-0f7f9f69542e",
   "metadata": {},
   "outputs": [],
   "source": [
    "#from docling_core.transforms.chunker.tokenizer.huggingface import HuggingFaceTokenizer\n",
    "#from transformers import AutoTokenizer\n",
    "\n",
    "from docling.chunking import HybridChunker\n",
    "\n",
    "#EMBED_MODEL_ID = \"sentence-transformers/all-MiniLM-L6-v2\"\n",
    "#MAX_TOKENS = 1024\n",
    "#\n",
    "# tokenizer = HuggingFaceTokenizer(\n",
    "#     tokenizer=AutoTokenizer.from_pretrained(EMBED_MODEL_ID),\n",
    "#     max_tokens=MAX_TOKENS,  # optional, by default derived from `tokenizer` for HF case\n",
    "#     merge_peers=True # \n",
    "# )\n",
    "\n",
    "chunker = HybridChunker(\n",
    "    #tokenizer=tokenizer,\n",
    "    #merge_peers=True,  # whether to merge undersized chunks - defaults to True\n",
    ")"
   ]
  },
  {
   "cell_type": "markdown",
   "id": "54ce1d6f-b8d3-470c-b3c9-675911f0ee92",
   "metadata": {},
   "source": [
    "### Load and chunk the converted docling document\n",
    "\n",
    "Next lets convert the document we want to chunk up into a Docling Document."
   ]
  },
  {
   "cell_type": "code",
   "execution_count": 21,
   "id": "db983c05-4aa6-4261-9283-2adab69bfbd3",
   "metadata": {},
   "outputs": [
    {
     "name": "stderr",
     "output_type": "stream",
     "text": [
      "Token indices sequence length is longer than the specified maximum sequence length for this model (583 > 512). Running this sequence through the model will result in indexing errors\n"
     ]
    },
    {
     "name": "stdout",
     "output_type": "stream",
     "text": [
      "Extracted 1798 chunks from 2022-nfl-rulebook-final\n",
      "Extracted 10 chunks from BofA_InterestChecking_en_ADA\n",
      "Extracted 5 chunks from Advantag Savings\n",
      "Extracted 1798 chunks from 2022-nfl-rulebook-final\n",
      "Extracted 10 chunks from BofA_InterestChecking_en_ADA\n",
      "Extracted 5 chunks from Advantag Savings\n"
     ]
    }
   ],
   "source": [
    "for contribution in contributions:\n",
    "    contribution[\"all_chunks\"] = []\n",
    "    contribution[\"docs\"] = []\n",
    "    for file in json_files:\n",
    "        # reconvert the docling JSON for chunking\n",
    "        doc = DocumentConverter().convert(source=file)\n",
    "        \n",
    "        chunk_iter = chunker.chunk(dl_doc=doc.document)\n",
    "        chunk_objs = list(chunk_iter)\n",
    "        chunks = [chunker.contextualize(chunk=chunk) for chunk in chunk_objs]\n",
    "    \n",
    "        print(f\"Extracted {len(chunks)} chunks from {doc.document.name}\")\n",
    "        \n",
    "        for chunk in chunks:\n",
    "            c = dict(chunk=chunk, file=doc.document.name)\n",
    "            contribution[\"all_chunks\"].append(c)\n",
    "        \n",
    "        contribution[\"docs\"].append(dict(chunk_objs=chunk_objs,file=doc.document.name))"
   ]
  },
  {
   "cell_type": "markdown",
   "id": "0fb38545-eb84-4923-8fc4-d10ed08eab26",
   "metadata": {},
   "source": [
    "### View the Chunks\n",
    "\n",
    "To view the chunks, run through the following cell. As you can see the document is broken into small pieces with metadata about the chunk based on the document's format"
   ]
  },
  {
   "cell_type": "code",
   "execution_count": 22,
   "id": "4fdf34c7-9829-43d2-bf9f-7d1d55bb6a4c",
   "metadata": {},
   "outputs": [
    {
     "name": "stdout",
     "output_type": "stream",
     "text": [
      "2022 OFFICIAL PLAYING RULES OF THE NATIONAL FOOTBALL LEAGUE\n",
      "Roger Goodell, Commissioner\n"
     ]
    }
   ],
   "source": [
    "print(contributions[0][\"all_chunks\"][0][\"chunk\"])"
   ]
  },
  {
   "cell_type": "markdown",
   "id": "42c4160f-7508-4c72-b28d-b56aa4975b26",
   "metadata": {},
   "source": [
    "### Save all chunks to a JSON file\n",
    "\n",
    "All chunks are saved to a JSON file called chunks.jsonl in CHUNKING_OUTPUT_DIR. This file is one of the inputs father below when we create the seed dataset for SDG."
   ]
  },
  {
   "cell_type": "code",
   "execution_count": 25,
   "id": "6e70d576-a2bc-4274-b660-1cbe051968b1",
   "metadata": {},
   "outputs": [
    {
     "name": "stdout",
     "output_type": "stream",
     "text": [
      "Path of chunks JSON is: /Users/amaredia/dev/examples/notebooks/instructlab-knowledge/workspaces/default/chunking/nfl/chunks.jsonl\n",
      "Path of chunks JSON is: /Users/amaredia/dev/examples/notebooks/instructlab-knowledge/workspaces/default/chunking/finance/chunks.jsonl\n"
     ]
    }
   ],
   "source": [
    "for contribution in contributions:\n",
    "    chunks_file_path = CHUNKING_OUTPUT_DIR / contribution[\"prefix\"] / \"chunks.jsonl\"\n",
    "    with open(chunks_file_path, \"w\", encoding=\"utf-8\") as file:\n",
    "        for chunk in contribution[\"all_chunks\"]:\n",
    "            json.dump(chunk, file)\n",
    "            file.write(\"\\n\")\n",
    "        print(f\"Path of chunks JSON is: {Path(chunks_file_path).resolve()}\")\n"
   ]
  },
  {
   "cell_type": "markdown",
   "id": "a510f8c7-8cd3-4867-8742-9f4f9cda9e9f",
   "metadata": {},
   "source": [
    "## Authoring"
   ]
  },
  {
   "cell_type": "code",
   "execution_count": 26,
   "id": "86c48e52-cda7-48ac-84dc-0b844aed5f98",
   "metadata": {},
   "outputs": [
    {
     "name": "stderr",
     "output_type": "stream",
     "text": [
      "huggingface/tokenizers: The current process just got forked, after parallelism has already been used. Disabling parallelism to avoid deadlocks...\n",
      "To disable this warning, you can either:\n",
      "\t- Avoid using `tokenizers` before the fork if possible\n",
      "\t- Explicitly set the environment variable TOKENIZERS_PARALLELISM=(true | false)\n"
     ]
    }
   ],
   "source": [
    "!pip install -qq docling-sdg\n",
    "\n",
    "# TODO: replace with above after https://github.com/docling-project/docling-sdg/pull/31 merges\n",
    "#!pip install -qq git+https://github.com/anastasds/docling-sdg@d15de2c5a81bfe166f66f412fc4b23728065f396"
   ]
  },
  {
   "cell_type": "code",
   "execution_count": 27,
   "id": "2a165c38-843b-4c89-a8ad-6195b998e284",
   "metadata": {},
   "outputs": [
    {
     "name": "stdout",
     "output_type": "stream",
     "text": [
      "Chunking and filtering document 2022-nfl-rulebook-final\n",
      "Created dataset 2022-nfl-rulebook-final with 720 QA chunks\n",
      "Chunking and filtering document BofA_InterestChecking_en_ADA\n",
      "Created dataset BofA_InterestChecking_en_ADA with 8 QA chunks\n",
      "Chunking and filtering document Advantag Savings\n",
      "Created dataset Advantag Savings with 5 QA chunks\n",
      "Chunking and filtering document 2022-nfl-rulebook-final\n",
      "Created dataset 2022-nfl-rulebook-final with 720 QA chunks\n",
      "Chunking and filtering document BofA_InterestChecking_en_ADA\n",
      "Created dataset BofA_InterestChecking_en_ADA with 8 QA chunks\n",
      "Chunking and filtering document Advantag Savings\n",
      "Created dataset Advantag Savings with 5 QA chunks\n"
     ]
    }
   ],
   "source": [
    "from docling_sdg.qa.utils import get_qa_chunks\n",
    "\n",
    "filters = [\n",
    "    lambda chunk: len(str(chunk.text)) > 500\n",
    "]\n",
    "\n",
    "for contribution in contributions:\n",
    "    contribution[\"dataset\"] = {}\n",
    "    for doc in contribution[\"docs\"]:\n",
    "        print(f\"Chunking and filtering document {doc[\"file\"]}\")\n",
    "        \n",
    "        # get_qa_chunks expects a list[DocChunk] which we already have from doc[\"chunk_objs\"] in the chunking section\n",
    "        qa_chunks = list(get_qa_chunks(doc[\"file\"], doc[\"chunk_objs\"], filters)) #TODO: decouple reference to chunk_objs from above)\n",
    "        contribution[\"dataset\"][doc[\"file\"]] = qa_chunks\n",
    "        \n",
    "        print(f\"Created dataset {doc[\"file\"]} with {len(qa_chunks)} QA chunks\")"
   ]
  },
  {
   "cell_type": "markdown",
   "id": "d65ec755-e3de-40ab-bf3a-23ebb29a705d",
   "metadata": {},
   "source": [
    "### Initialize QA generator, supplying details for which model to use\n",
    "\n",
    "GenerateOptions controls which model is used for QA generation by setting generate_options.provider below. Three options are available:\n",
    "\n",
    "* LlmProviders.WATSONX for watsonx\n",
    "* LlmProviders.OPENAI for OpenAI\n",
    "* LlmProviders.OPENAI_LIKE for any model provider with OpenAI compatible APIs"
   ]
  },
  {
   "cell_type": "code",
   "execution_count": 28,
   "id": "874d4de8",
   "metadata": {
    "tags": [
     "parameters"
    ]
   },
   "outputs": [],
   "source": [
    "API_KEY = \"none\"  # the API access key for your account ( cannot be empty )\n",
    "API_URL = \"http://127.0.0.1:11434/v1\"  # the URL of your model's API\n",
    "MODEL_ID = \"granite3.3\" # the name of your model"
   ]
  },
  {
   "cell_type": "code",
   "execution_count": 29,
   "id": "b702267e-f550-4bc2-bce4-c0fcecbbd292",
   "metadata": {},
   "outputs": [],
   "source": [
    "from docling_sdg.qa.generate import Generator\n",
    "from docling_sdg.qa.base import GenerateOptions, LlmProvider\n",
    "from pydantic import SecretStr\n",
    "\n",
    "generate_options = GenerateOptions(project_id=\"project_id\")\n",
    "generate_options.provider = LlmProvider.OPENAI_LIKE\n",
    "generate_options.api_key = SecretStr(API_KEY)\n",
    "generate_options.url = API_URL\n",
    "generate_options.model_id = MODEL_ID"
   ]
  },
  {
   "cell_type": "markdown",
   "id": "919199c0-3747-409a-85ab-0155ef3ebe9d",
   "metadata": {},
   "source": [
    "### Configure subset selection"
   ]
  },
  {
   "cell_type": "code",
   "execution_count": 30,
   "id": "f1197d4e-8354-45e3-9ec9-85c78ba36548",
   "metadata": {},
   "outputs": [],
   "source": [
    "NUM_CHUNKS_PER_FILE_TO_SELECT_FOR_AUTHORING = 2"
   ]
  },
  {
   "cell_type": "markdown",
   "id": "d2421d07-3e6c-4355-95f4-da8e157557c7",
   "metadata": {},
   "source": [
    "### Run QA generation on selected chunks"
   ]
  },
  {
   "cell_type": "code",
   "execution_count": 31,
   "id": "e57edff5-9a13-47fb-9248-9140ae5baaca",
   "metadata": {},
   "outputs": [
    {
     "name": "stdout",
     "output_type": "stream",
     "text": [
      "processing chunks that looks like:\n",
      "This edition of the Official Playing Rules of the  National Football League  contains all current rules governing the playing of professional football that are in effect for the 2022 NFL season. Member clubs of the League may amend the rules from time to time, pursuant to the applicable voting procedures of the NFL Constitution and Bylaws.\n",
      "Any intra-League dispute or call for interpretation in connection with these rules will be decided by the Commissioner of the League, whose ruling will be final.\n",
      "Because inter-conference games are played throughout the preseason, regular season, and postseason in  the  NFL, all  rules contained in  this  book apply uniformly to both the American and National Football Conferences.\n",
      "Where the word 'illegal' appears in this rule book, it is an institutional term of art pertaining strictly to actions that violate NFL playing rules. It is not meant to connote illegality under any public law or the rules or regulations of any other organization.\n",
      "The word 'flagrant,' when used here to describe an action by a player, is meant to indicate that the degree of a violation of the rules-usually a personal foul or  unnecessary roughness-is extremely objectionable, conspicuous, unnecessary, avoidable, or gratuitous. 'Flagrant' in these rules does not necessarily imply malice on the part of the fouling player or an intention to injure an opponent.\n",
      "Copyright © 2022 by the National Football League. All rights reserved. Printed in the United States of America.\n",
      "Bottom of the yard line numbers must be 12 yards from the sideline.\n",
      "Selected 2 contexts\n"
     ]
    },
    {
     "name": "stderr",
     "output_type": "stream",
     "text": [
      "  0%|                                                                                                                                                                                                                                                             | 0/2 [00:00<?, ?it/s]PromptTypes.ANSWER prompt not available for types ['reasoning']\n",
      "100%|█████████████████████████████████████████████████████████████████████████████████████████████████████████████████████████████████████████████████████████████████████████████████████████████████████████████████████████████████████████████████████| 2/2 [00:06<00:00,  3.35s/it]\n"
     ]
    },
    {
     "name": "stdout",
     "output_type": "stream",
     "text": [
      "2022-nfl-rulebook-final: Status.SUCCESS\n",
      "processing chunks that looks like:\n",
      "Opening Deposit\n",
      "$100 or more\n",
      "Interest Rate\n",
      "This account earns interest at a variable rate. You can find current rate information at bankofamerica.com, by calling the number on your account statement or visiting a financial center.\n",
      "Monthly\n",
      "Maintenance\n",
      "Fee\n",
      "$25.00 each month. You can avoid the Monthly Maintenance Fee when you meet ONE of the following requirements during each statement cycle:\n",
      "• Maintain a minimum daily balance of $20,000 or more in your account OR\n",
      "• Be a member of the Preferred Rewards program. Learn more at bankofamerica.com/preferred-rewards.\n",
      "ATM fees\n",
      "Bank of America ATMs\n",
      "No ATM fee\n",
      "For deposits, withdrawals, transfers or balance inquiries\n",
      "Non-Bank of America ATMs\n",
      "$2.50\n",
      "In the U.S., plus any fee charged by the ATM's operator\n",
      "$5.00\n",
      "Outside the U.S., plus any fee charged by the ATM's operator\n",
      "Selected 2 contexts\n"
     ]
    },
    {
     "name": "stderr",
     "output_type": "stream",
     "text": [
      "100%|█████████████████████████████████████████████████████████████████████████████████████████████████████████████████████████████████████████████████████████████████████████████████████████████████████████████████████████████████████████████████████| 2/2 [00:07<00:00,  3.98s/it]\n"
     ]
    },
    {
     "name": "stdout",
     "output_type": "stream",
     "text": [
      "BofA_InterestChecking_en_ADA: Status.SUCCESS\n",
      "processing chunks that looks like:\n",
      "FDIC\n",
      "Coverage\n",
      "This account is insured by the Federal Deposit Insurance Corporation (FDIC) and is backed by the U.S. government. The standard insurance amount is $250,000 per depositor, per insured bank, for each account ownership category.\n",
      "Monthly Maintenance Fee\n",
      "$8.00\n",
      "each month\n",
      "(We'll waive this fee for the first 6 months.)\n",
      "You can avoid the Monthly Maintenance Fee when you meet ONE of the following requirements during each statement cycle:\n",
      "· Maintain a minimum daily balance of $500 or more in your account, OR\n",
      "· Ask us to link your account to your Bank of America Advantage Relationship Banking ® , Bank of America Advantage  with Tiered Interest Checking or Bank of America Advantage ® ® Regular Checking account (first 4 savings accounts), OR\n",
      "· An owner of this account is under the age of 25 (fiduciary accounts don't qualify), OR\n",
      "· Be a member of the Preferred Rewards program. Learn more at bankofamerica.com/preferred-rewards, or visit your local financial center.\n",
      "Selected 2 contexts\n"
     ]
    },
    {
     "name": "stderr",
     "output_type": "stream",
     "text": [
      "100%|█████████████████████████████████████████████████████████████████████████████████████████████████████████████████████████████████████████████████████████████████████████████████████████████████████████████████████████████████████████████████████| 2/2 [00:06<00:00,  3.29s/it]\n"
     ]
    },
    {
     "name": "stdout",
     "output_type": "stream",
     "text": [
      "Advantag Savings: Status.SUCCESS\n",
      "processing chunks that looks like:\n",
      "This edition of the Official Playing Rules of the  National Football League  contains all current rules governing the playing of professional football that are in effect for the 2022 NFL season. Member clubs of the League may amend the rules from time to time, pursuant to the applicable voting procedures of the NFL Constitution and Bylaws.\n",
      "Any intra-League dispute or call for interpretation in connection with these rules will be decided by the Commissioner of the League, whose ruling will be final.\n",
      "Because inter-conference games are played throughout the preseason, regular season, and postseason in  the  NFL, all  rules contained in  this  book apply uniformly to both the American and National Football Conferences.\n",
      "Where the word 'illegal' appears in this rule book, it is an institutional term of art pertaining strictly to actions that violate NFL playing rules. It is not meant to connote illegality under any public law or the rules or regulations of any other organization.\n",
      "The word 'flagrant,' when used here to describe an action by a player, is meant to indicate that the degree of a violation of the rules-usually a personal foul or  unnecessary roughness-is extremely objectionable, conspicuous, unnecessary, avoidable, or gratuitous. 'Flagrant' in these rules does not necessarily imply malice on the part of the fouling player or an intention to injure an opponent.\n",
      "Copyright © 2022 by the National Football League. All rights reserved. Printed in the United States of America.\n",
      "Bottom of the yard line numbers must be 12 yards from the sideline.\n",
      "Selected 2 contexts\n"
     ]
    },
    {
     "name": "stderr",
     "output_type": "stream",
     "text": [
      "100%|█████████████████████████████████████████████████████████████████████████████████████████████████████████████████████████████████████████████████████████████████████████████████████████████████████████████████████████████████████████████████████| 2/2 [00:06<00:00,  3.12s/it]\n"
     ]
    },
    {
     "name": "stdout",
     "output_type": "stream",
     "text": [
      "2022-nfl-rulebook-final: Status.SUCCESS\n",
      "processing chunks that looks like:\n",
      "Opening Deposit\n",
      "$100 or more\n",
      "Interest Rate\n",
      "This account earns interest at a variable rate. You can find current rate information at bankofamerica.com, by calling the number on your account statement or visiting a financial center.\n",
      "Monthly\n",
      "Maintenance\n",
      "Fee\n",
      "$25.00 each month. You can avoid the Monthly Maintenance Fee when you meet ONE of the following requirements during each statement cycle:\n",
      "• Maintain a minimum daily balance of $20,000 or more in your account OR\n",
      "• Be a member of the Preferred Rewards program. Learn more at bankofamerica.com/preferred-rewards.\n",
      "ATM fees\n",
      "Bank of America ATMs\n",
      "No ATM fee\n",
      "For deposits, withdrawals, transfers or balance inquiries\n",
      "Non-Bank of America ATMs\n",
      "$2.50\n",
      "In the U.S., plus any fee charged by the ATM's operator\n",
      "$5.00\n",
      "Outside the U.S., plus any fee charged by the ATM's operator\n",
      "Selected 2 contexts\n"
     ]
    },
    {
     "name": "stderr",
     "output_type": "stream",
     "text": [
      "100%|█████████████████████████████████████████████████████████████████████████████████████████████████████████████████████████████████████████████████████████████████████████████████████████████████████████████████████████████████████████████████████| 2/2 [00:08<00:00,  4.05s/it]\n"
     ]
    },
    {
     "name": "stdout",
     "output_type": "stream",
     "text": [
      "BofA_InterestChecking_en_ADA: Status.SUCCESS\n",
      "processing chunks that looks like:\n",
      "FDIC\n",
      "Coverage\n",
      "This account is insured by the Federal Deposit Insurance Corporation (FDIC) and is backed by the U.S. government. The standard insurance amount is $250,000 per depositor, per insured bank, for each account ownership category.\n",
      "Monthly Maintenance Fee\n",
      "$8.00\n",
      "each month\n",
      "(We'll waive this fee for the first 6 months.)\n",
      "You can avoid the Monthly Maintenance Fee when you meet ONE of the following requirements during each statement cycle:\n",
      "· Maintain a minimum daily balance of $500 or more in your account, OR\n",
      "· Ask us to link your account to your Bank of America Advantage Relationship Banking ® , Bank of America Advantage  with Tiered Interest Checking or Bank of America Advantage ® ® Regular Checking account (first 4 savings accounts), OR\n",
      "· An owner of this account is under the age of 25 (fiduciary accounts don't qualify), OR\n",
      "· Be a member of the Preferred Rewards program. Learn more at bankofamerica.com/preferred-rewards, or visit your local financial center.\n",
      "Selected 2 contexts\n"
     ]
    },
    {
     "name": "stderr",
     "output_type": "stream",
     "text": [
      "100%|█████████████████████████████████████████████████████████████████████████████████████████████████████████████████████████████████████████████████████████████████████████████████████████████████████████████████████████████████████████████████████| 2/2 [00:06<00:00,  3.01s/it]"
     ]
    },
    {
     "name": "stdout",
     "output_type": "stream",
     "text": [
      "Advantag Savings: Status.SUCCESS\n"
     ]
    },
    {
     "name": "stderr",
     "output_type": "stream",
     "text": [
      "\n"
     ]
    }
   ],
   "source": [
    "import random #TODO: replace random sampling with subset selection\n",
    "\n",
    "for contribution in contributions:\n",
    "    contribution[\"generated_files\"] = []\n",
    "    for doc, chunks in contribution[\"dataset\"].items():\n",
    "        generate_options.generated_file = AUTHORING_OUTPUT_DIR / contribution[\"prefix\"] / f\"qagen-{doc}.json\"\n",
    "        gen = Generator(generate_options=generate_options)\n",
    "        print(f\"processing chunks that looks like:\\n{chunks[0].text}\")\n",
    "        selected_chunks = random.sample(chunks, NUM_CHUNKS_PER_FILE_TO_SELECT_FOR_AUTHORING)\n",
    "        print(f\"Selected {len(selected_chunks)} contexts\")\n",
    "    \n",
    "        Path.unlink(generate_options.generated_file, missing_ok=True)\n",
    "        results = gen.generate_from_chunks(selected_chunks) # automatically saves to file\n",
    "        contribution[\"generated_files\"].append(generate_options.generated_file)\n",
    "    \n",
    "        print(f\"{doc}: {results.status}\")"
   ]
  },
  {
   "cell_type": "markdown",
   "id": "ea64b8f0-dd6c-4776-8646-9731433f909b",
   "metadata": {},
   "source": [
    "### Read generated QAs and restructure"
   ]
  },
  {
   "cell_type": "code",
   "execution_count": 33,
   "id": "9df2c533-30d7-4c30-9907-7c5655fd2246",
   "metadata": {},
   "outputs": [
    {
     "name": "stdout",
     "output_type": "stream",
     "text": [
      "Generated QA pairs for 6 contexts\n",
      "[{'question': 'What happens to the injured player at the conclusion of an injury timeout prior to the two-minute warning?', 'answer': 'The injured player must leave the game for the completion of one down. However, they will be permitted to remain in the game if either team calls a charged team timeout, the injury is the result of a foul by an opponent, or the period ends or the two-minute warning occurs before the next snap.'}, {'question': 'What are the conditions under which an injured player can remain in the game during an injury timeout prior to the two-minute warning?', 'answer': 'The injured player can remain in the game if either team calls a charged team timeout, the injury is the result of a foul by an opponent, or the period ends or the two-minute warning occurs before the next snap.'}]\n",
      "Generated QA pairs for 6 contexts\n",
      "[{'question': \"How many players were initially on each side of Team A's kicker before the ball was blown off the tee?\", 'answer': \"There were five players on each side of Team A's kicker before the ball was blown off the tee.\"}, {'question': \"What is the ruling for Team A's formation after the ball was blown off the tee and A1 came in as the holder?\", 'answer': 'The ruling is that it is an illegal formation. Team A must have two players outside the yard-line numbers and two players between the inbounds line and the yard-line numbers, other than the holder.'}, {'question': 'Based on the information provided, why was the kick through the end zone considered illegal?', 'answer': 'The kick through the end zone was considered illegal because Team A had an illegal formation at the time of the kick.'}]\n"
     ]
    }
   ],
   "source": [
    "import json\n",
    "import yaml\n",
    "from textwrap import wrap\n",
    "\n",
    "for contribution in contributions:\n",
    "    contribution[\"qnas\"] = {}\n",
    "    contribution[\"chunk_id_to_text\"] = {}\n",
    "    for file in contribution[\"generated_files\"]:\n",
    "        with open(file, \"rt\") as f:\n",
    "            for line in f.readlines():\n",
    "                entry = json.loads(line)\n",
    "                chunk_id = entry['chunk_id']\n",
    "                if chunk_id not in contribution[\"chunk_id_to_text\"]:\n",
    "                    contribution[\"chunk_id_to_text\"][chunk_id] = entry['context']\n",
    "                if chunk_id not in contribution[\"qnas\"]:\n",
    "                    contribution[\"qnas\"][chunk_id] = []\n",
    "                contribution[\"qnas\"][chunk_id].append({'question': entry['question'], 'answer': entry['answer']})\n",
    "    \n",
    "    print(f\"Generated QA pairs for {len(contribution[\"qnas\"])} contexts\")\n",
    "    print(list(contribution[\"qnas\"].values())[0])"
   ]
  },
  {
   "cell_type": "markdown",
   "id": "dafa8927-e56c-448b-b88b-f8d854c25d4d",
   "metadata": {},
   "source": [
    "### Output qna.yaml"
   ]
  },
  {
   "cell_type": "code",
   "execution_count": 34,
   "id": "d7f26460-737f-4940-b58a-ef6caea313d3",
   "metadata": {},
   "outputs": [
    {
     "name": "stdout",
     "output_type": "stream",
     "text": [
      "qna.yaml saved to: workspaces/default/authoring/nfl/qna.yaml\n",
      "qna.yaml saved to: workspaces/default/authoring/finance/qna.yaml\n"
     ]
    }
   ],
   "source": [
    "# The following creates a data structure for outputting in the expected format for qna.yaml\n",
    "# TODO: extract into utils library\n",
    "\n",
    "def str_presenter(dumper, data):\n",
    "  if len(data.splitlines()) > 1:  # check for multiline string\n",
    "    return dumper.represent_scalar('tag:yaml.org,2002:str', data, style='|')\n",
    "  elif len(data) > 80:\n",
    "    data = \"\\n\".join(wrap(data, 80))\n",
    "    return dumper.represent_scalar('tag:yaml.org,2002:str', data, style='|')\n",
    "  return dumper.represent_scalar('tag:yaml.org,2002:str', data)\n",
    "\n",
    "yaml.add_representer(str, str_presenter)\n",
    "\n",
    "# to use with safe_dump:\n",
    "yaml.representer.SafeRepresenter.add_representer(str, str_presenter)\n",
    "\n",
    "class IndentedDumper(yaml.Dumper):\n",
    "    def increase_indent(self, flow=False, indentless=False):\n",
    "        return super(IndentedDumper, self).increase_indent(flow, False)\n",
    "\n",
    "for contribution in contributions:\n",
    "    qna_output_path = AUTHORING_OUTPUT_DIR / contribution[\"prefix\"] / \"qna.yaml\"\n",
    "    \n",
    "    data = {'seed_examples': []}\n",
    "    for chunk_id, context in contribution[\"chunk_id_to_text\"].items():\n",
    "        data['seed_examples'].append({\n",
    "            'context': context,\n",
    "            'questions_and_answers': [\n",
    "                {\n",
    "                    'question': example['question'],\n",
    "                    'answer': example['answer'],\n",
    "                } for example in contribution[\"qnas\"][chunk_id]\n",
    "            ]\n",
    "        })\n",
    "    \n",
    "    data['document_outline'] = contribution[\"summary\"]\n",
    "    data['domain'] = contribution[\"domain\"]\n",
    "    \n",
    "    Path.unlink(qna_output_path, missing_ok=True) # shouldn't be necessary but was. jupyter caching thing?\n",
    "    with open(qna_output_path, 'w') as yaml_file:\n",
    "        yaml.dump(data, yaml_file, Dumper=IndentedDumper, default_flow_style=False, sort_keys=False, width=80)\n",
    "    \n",
    "    print(f\"qna.yaml saved to: {qna_output_path}\")"
   ]
  },
  {
   "cell_type": "markdown",
   "id": "ed9ea149-844b-4330-90ec-d0ca7ab12b90",
   "metadata": {},
   "source": [
    "### View generated qna.yaml"
   ]
  },
  {
   "cell_type": "code",
   "execution_count": 37,
   "id": "1293d445-b826-4b92-ad20-9b121ac60e20",
   "metadata": {},
   "outputs": [
    {
     "name": "stdout",
     "output_type": "stream",
     "text": [
      "========== qna.yaml at workspaces/default/authoring/nfl/qna.yaml ==========\n",
      "seed_examples:\n",
      "  - context: |-\n",
      "      Note: If  an  attempt  is  made  to  call  a  timeout  in  such  situations,  the  officials  shall  not  grant  a  timeout;  instead,  play  will continue, and a penalty will be called, with customary enforcement. If a timeout is inadvertently granted and charged, the penalty shall also be enforced. See 12-3-1-w.\n",
      "      ARTICLE 2.  INJURY TIMEOUTS. If an official determines a player to be injured, or if attendants from the bench come on the field to assist an injured player, an injury timeout will be called by the Referee. If the ATC Spotter identifies a player for medical attention, the rules pertaining to Injury Timeouts in Article 3 and Article 4 (c) apply.\n",
      "      ARTICLE 3.  INJURY TIMEOUTS PRIOR TO TWO-MINUTE WARNING OF EITHER HALF. When an injury timeout is called, the injured player must leave the game for the completion of one down. The player will be permitted to remain in the game if:\n",
      "      (a) either team calls a charged team timeout;\n",
      "      (b) the injury is the result of a foul by an opponent; or\n",
      "      (c) the period ends or the two-minute warning occurs before the next snap.\n",
      "      At the conclusion of an injury timeout, the game clock will start as if the injury timeout had not occurred. If either team takes, or is charged with, a timeout, the clock will start on the snap.\n",
      "      ARTICLE 4.  INJURY TIMEOUTS AFTER TWO-MINUTE WARNING OF EITHER HALF. After the two-minute  warning  of  a half, the following shall apply:\n",
      "    questions_and_answers:\n",
      "      - question: |-\n",
      "          What happens to the injured player at the conclusion of an injury timeout prior\n",
      "          to the two-minute warning?\n",
      "        answer: |-\n",
      "          The injured player must leave the game for the completion of one down. However,\n",
      "          they will be permitted to remain in the game if either team calls a charged team\n",
      "          timeout, the injury is the result of a foul by an opponent, or the period ends\n",
      "          or the two-minute warning occurs before the next snap.\n",
      "      - question: |-\n",
      "          What are the conditions under which an injured player can remain in the game\n",
      "          during an injury timeout prior to the two-minute warning?\n",
      "        answer: |-\n",
      "          The injured player can remain in the game if either team calls a charged team\n",
      "          timeout, the injury is the result of a foul by an opponent, or the period ends\n",
      "          or the two-minute warning occurs before the next snap.\n",
      "  - context: |-\n",
      "      Second-and-10 on B35. With 12:00 remaining in the fourth quarter, QBA1 rolls out and throws a pass to A2 at the back of the end zone that is ruled incomplete. Team A challenges that the pass was complete, but replays show that A2 only got one foot down inbounds and the call on the field is upheld. While the Referee is making his announcement, a new replay comes up that shows the QB stepping on the sideline at the B40 before releasing the pass. Team B challenges the play.\n",
      "      Ruling: Reviewable. Both teams can challenge the same play. A's ball third-and-15 on the B40, reset the clock to the time when the QB stepped out of bounds, and start on the snap. A team cannot challenge the same play twice. It is important that all reviewable aspects of a play are confirmed by replay regardless of what is being challenged. Team A is charged with a challenge and a timeout.\n",
      "    questions_and_answers:\n",
      "      - question: What is the result of the second review?\n",
      "        answer: |-\n",
      "          The second review shows that the QB stepped on the sideline at the B40 before\n",
      "          releasing the pass, and the play is ruled incomplete.\n",
      "      - question: What is the overall result of the two reviews?\n",
      "        answer: |-\n",
      "          The first review upheld the call that A2 only got one foot down inbounds, and\n",
      "          the second review showed that the QB stepped on the sideline before releasing\n",
      "          the pass, resulting in an incomplete pass.\n",
      "      - question: |-\n",
      "          Based on the information provided, why is Team A charged with a challenge and a\n",
      "          timeout?\n",
      "        answer: |-\n",
      "          Team A is charged with a challenge and a timeout because they challenged the\n",
      "          same play twice, which is against the rules.\n",
      "  - context: |-\n",
      "      the amount available after transfer.. For international wire transfers, other\n",
      "      fees may also apply, including those charged by recipient's financial\n",
      "      institution, foreign taxes, and other fees that are part of the wire transfer\n",
      "      process. We profit from markups associated with the currency conversion included\n",
      "      in our exchange rate (determined solely by us). Before sending in foreign\n",
      "      currency, you should consider factors that impact the total cost or the amount\n",
      "      available after transfer., 2 = For international wire transfers, other fees may\n",
      "      also apply, including those charged by recipient's financial institution,\n",
      "      foreign taxes, and other fees that are part of the wire transfer process. We\n",
      "      profit from markups associated with the currency conversion included in our\n",
      "      exchange rate (determined solely by us). Before sending in foreign currency, you\n",
      "      should consider factors that impact the total cost or the amount available after\n",
      "      transfer.. Non-Bank of America Teller Withdrawal, 1 = Per transaction, greater\n",
      "      of $5.00 OR 3% of the amount (maximum $10.00) when you use your ATM or debit\n",
      "      card, or card number, to make a withdrawal, transfer or payment at another bank\n",
      "      and it is processed as a cash disbursement.. Non-Bank of America Teller\n",
      "      Withdrawal, 2 = Per transaction, greater of $5.00 OR 3% of the amount (maximum\n",
      "      $10.00) when you use your ATM or debit card, or card number, to make a\n",
      "      withdrawal, transfer or payment at another bank and it is processed as a cash\n",
      "      disbursement.\n",
      "    questions_and_answers:\n",
      "      - question: What is the maximum amount charged for a non-Bank of America Teller\n",
      "          Withdrawal?\n",
      "        answer: $10.00\n",
      "      - question: |-\n",
      "          What are the different fees associated with international wire transfers and\n",
      "          non-Bank of America Teller Withdrawals?\n",
      "        answer: |-\n",
      "          For international wire transfers, fees may include those charged by the\n",
      "          recipient's financial institution, foreign taxes, and other fees that are part\n",
      "          of the wire transfer process. We also profit from markups associated with the\n",
      "          currency conversion. For non-Bank of America Teller Withdrawals, the fee is the\n",
      "          greater of $5.00 or 3% of the amount, with a maximum of $10.00.\n",
      "      - question: |-\n",
      "          Given the fees for non-Bank of America Teller Withdrawals and international wire\n",
      "          transfers, why might it be more cost-effective to use Bank of America's services\n",
      "          for international wire transfers?\n",
      "        answer: |-\n",
      "          Using Bank of America's services for international wire transfers might be more\n",
      "          cost-effective because, although there may be fees associated with the transfer,\n",
      "          the bank determines the exchange rate markups solely, potentially offering a\n",
      "          more favorable rate than other financial institutions. Additionally, there would\n",
      "          be no fees for using a non-Bank of America ATM or debit card for the transfer.\n",
      "          However, one should still consider all factors that could impact the total cost\n",
      "          or the amount available after transfer.\n",
      "  - context: \"Review all the features and benefits of your new account at bankofamerica.com/quickstart\\n\\\n",
      "      For questions, schedule an appointment to visit a financial center at bankofamerica.com/appointments\\n\\\n",
      "      Call us at 800.432.1000\\nAdditional fee waivers may be available to Bank of\\\n",
      "      \\ America Private Bank and qualified Merrill Lynch Wealth Management \\xAE clients.\\\n",
      "      \\ Please contact your advisor to learn more. Merrill Lynch, Pierce, Fenner &\\\n",
      "      \\ Smith Incorporated (also referred to as 'MLPF&S' or 'Merrill') makes available\\\n",
      "      \\ certain investment products sponsored, managed, distributed or provided by\\\n",
      "      \\ companies that are affiliates of Bank of America Corporation ('BofA Corp.').\\\n",
      "      \\ MLPF&S is a registered broker-dealer, registered investment advisor, Member\\\n",
      "      \\ SIPC and a wholly owned subsidiary of BofA Corp.\\nInvestment products:\\nAre\\\n",
      "      \\ Not FDIC Insured\\nAre Not Bank Guaranteed\\nMay Lose Value\\nBanking products\\\n",
      "      \\ are provided by Bank of America, N.A. and affiliated banks, Members FDIC and\\\n",
      "      \\ wholly owned subsidiaries of Bank of America Corporation.\"\n",
      "    questions_and_answers:\n",
      "      - question: What is the phone number to contact Bank of America?\n",
      "        answer: 800.432.1000\n",
      "      - question: What services does Bank of America offer through its website?\n",
      "        answer: |-\n",
      "          Bank of America offers account review, fee waiver inquiries, appointment\n",
      "          scheduling, and customer service through its website.\n",
      "      - question: |-\n",
      "          If a Bank of America Private Bank or Merrill Lynch Wealth Management client\n",
      "          contacts their advisor regarding additional fee waivers, what would be the\n",
      "          outcome?\n",
      "        answer: The client would learn more about any available fee waivers.\n",
      "  - context: |-\n",
      "      Cash, direct deposits, wire transfers: On the day we receive them.\n",
      "      Checks: Usually the next business day if deposited before the financial center or ATM cutoff time.\n",
      "      Mobile Check Deposit: Usually the next business day if deposited by applicable cutoff times. Please refer to Deposit Checks , then Help in the Mobile Banking app for additional details and terms and conditions.\n",
      "      If we place a hold on your deposit, we'll let you know the hold reason and when your funds will be available. This is typically provided at the time of deposit but may also be mailed later. Deposits greater than $5,525 and checks deposited within the first 30 days of account opening may be held longer.\n",
      "    questions_and_answers:\n",
      "      - question: What is the usual availability of cash and wire transfers when received?\n",
      "        answer: On the day they are received.\n",
      "      - question: What is the general timeframe for checks to become available after\n",
      "          deposit?\n",
      "        answer: |-\n",
      "          Checks are usually available the next business day if deposited before the\n",
      "          financial center or ATM cutoff time.\n",
      "      - question: |-\n",
      "          If a check is deposited within the first 30 days of account opening and the\n",
      "          amount is greater than $5,525, will it be held longer?\n",
      "        answer: |-\n",
      "          Yes, deposits greater than $5,525 and checks deposited within the first 30 days\n",
      "          of account opening may be held longer.\n",
      "  - context: |-\n",
      "      Non-Bank of America ATMs, No ATM fee = $2.50. Non-Bank of America ATMs, For deposits, withdrawals, transfers or balance inquiries = In the U.S., plus any fee charged by the ATM's operator. Non-Bank of America ATMs, No ATM fee = $5.00. Non-Bank of America ATMs, For deposits, withdrawals, transfers or balance inquiries = Outside the U.S., plus any fee charged by the ATM's operator. Statement copies, No ATM fee = No fee. Statement copies, For deposits, withdrawals, transfers or balance inquiries = Paper copies available upon request. Printable statements are available in Online Banking.. Stop payment fee, No ATM fee = $30.00. Stop payment fee, For deposits, withdrawals, transfers or balance inquiries = For each request; WAIVED for requests on Bill Pay transactions. Cashier's checks, No ATM fee = $15.00. Cashier's checks, For deposits, withdrawals, transfers or balance inquiries = For each check\n",
      "      of America debit card, and we'll round up your purchases to the nearest dollar amount and transfer the Build your savings automatically when you enroll in our Keep the Change savings program. Simply make everyday purchases with your Bank difference from your checking account to your savings account.\n",
      "      Please see the Personal Schedule of Fees and Deposit Agreement and Disclosures for your account terms, and information on how to link eligible accounts to avoid the Monthly Maintenance Fee.\n",
      "    questions_and_answers:\n",
      "      - question: What is the fee for a cashier's check at a Non-Bank of America ATM?\n",
      "        answer: $15.00\n",
      "      - question: |-\n",
      "          What are the fees for using a Non-Bank of America ATM for various services\n",
      "          within the U.S. and outside the U.S.?\n",
      "        answer: |-\n",
      "          In the U.S., the fee for using a Non-Bank of America ATM for deposits,\n",
      "          withdrawals, transfers, or balance inquiries is the ATM's operator fee plus\n",
      "          $2.50. Outside the U.S., the fee for these services is the ATM's operator fee\n",
      "          plus $5.00.\n",
      "      - question: |-\n",
      "          If you enroll in the Keep the Change savings program, how will your purchases be\n",
      "          handled?\n",
      "        answer: |-\n",
      "          Your purchases will be rounded up to the nearest dollar amount and the\n",
      "          difference will be transferred from your checking account to your savings\n",
      "          account.\n",
      "document_outline: Official playing rules of the National Football League 2022\n",
      "domain: sports\n",
      "\n",
      "========== qna.yaml at workspaces/default/authoring/finance/qna.yaml ==========\n",
      "seed_examples:\n",
      "  - context: |-\n",
      "      On A's kickoff from the A35, Team A has five players to the right of the kicker and five players to the left, all legally set. As the kicker approaches the ball, the wind blows the ball off the tee. Team A brings A1, the widest man, from outside the yard-line numbers in to be the holder. This leaves Team A with just one player outside the yard-line numbers on that side. The ball is kicked through the end zone.\n",
      "      Ruling : B's ball, first-and-10 on B30 or re-kick A30. Illegal formation. Even though the holder counts toward either side for the purpose of five on each side, Team A must still have two players outside the yard-line numbers and two players, (other than the holder), between the inbounds line and the yard-line numbers.\n",
      "    questions_and_answers:\n",
      "      - question: |-\n",
      "          How many players were initially on each side of Team A's kicker before the ball\n",
      "          was blown off the tee?\n",
      "        answer: |-\n",
      "          There were five players on each side of Team A's kicker before the ball was\n",
      "          blown off the tee.\n",
      "      - question: |-\n",
      "          What is the ruling for Team A's formation after the ball was blown off the tee\n",
      "          and A1 came in as the holder?\n",
      "        answer: |-\n",
      "          The ruling is that it is an illegal formation. Team A must have two players\n",
      "          outside the yard-line numbers and two players between the inbounds line and the\n",
      "          yard-line numbers, other than the holder.\n",
      "      - question: |-\n",
      "          Based on the information provided, why was the kick through the end zone\n",
      "          considered illegal?\n",
      "        answer: |-\n",
      "          The kick through the end zone was considered illegal because Team A had an\n",
      "          illegal formation at the time of the kick.\n",
      "  - context: |-\n",
      "      Second-and-5 on A30. A2 takes a handoff from a shotgun or T-QB and starts to\n",
      "      sweep around the right end. As he is (a) behind the normal position of the right\n",
      "      tackle, or (b) behind the normal position of the tight end, he stops and changes\n",
      "      direction toward the middle of the field. Left tackle A3 sees A2 change\n",
      "      direction, runs toward him, and forcibly blocks defensive end B2 at the A28 in\n",
      "      the chest with his head (not UOH), forearm, or shoulder. The block occurs behind\n",
      "      the normal right guard position and is parallel to the line of scrimmage. A2\n",
      "      runs to the 50, where he is tackled.\n",
      "    questions_and_answers:\n",
      "      - question: Which player forcibly blocks defensive end B2?\n",
      "        answer: Left tackle A3\n",
      "      - question: |-\n",
      "          Based on the information provided, can it be inferred that A2's change of\n",
      "          direction was a planned play or a spontaneous decision?\n",
      "        answer: |-\n",
      "          The text does not provide enough information to definitively answer this\n",
      "          question. It could be interpreted either way, depending on the context of the\n",
      "          overall game strategy.\n",
      "  - context: \"\\xB7 To help you avoid fees, we won't authorize ATM withdrawals or everyday\\\n",
      "      \\ debit card purchases when you don't have enough money in your account at the\\\n",
      "      \\ time of the transaction.\\n\\xB7 When we determine you don't have enough money\\\n",
      "      \\ in your account to cover other items such as checks or scheduled payments,\\\n",
      "      \\ we'll either authorize and pay the item and overdraw your account (an overdraft\\\n",
      "      \\ item),  or decline or return the item unpaid (a returned item). When 1 this\\\n",
      "      \\ happens, you may be charged a fee. See details below.\\n\\u2022 We offer two\\\n",
      "      \\ overdraft setting options for how you want us to process your other transactions.\"\n",
      "    questions_and_answers:\n",
      "      - question: |-\n",
      "          What happens when there is not enough money in the account to cover other items\n",
      "          like checks or scheduled payments?\n",
      "        answer: |-\n",
      "          The bank will either authorize and pay the item and overdraw the account, or\n",
      "          decline or return the item unpaid.\n",
      "      - question: |-\n",
      "          What are the two overdraft setting options the bank offers for processing other\n",
      "          transactions?\n",
      "        answer: The bank offers two overdraft setting options for processing other\n",
      "          transactions.\n",
      "      - question: |-\n",
      "          If the bank overdraws an account and charges a fee, why might a customer\n",
      "          consider changing their overdraft setting option?\n",
      "        answer: |-\n",
      "          A customer might consider changing their overdraft setting option to avoid or\n",
      "          reduce the frequency of overdraft fees.\n",
      "  - context: |-\n",
      "      the amount available after transfer.. For international wire transfers, other\n",
      "      fees may also apply, including those charged by recipient's financial\n",
      "      institution, foreign taxes, and other fees that are part of the wire transfer\n",
      "      process. We profit from markups associated with the currency conversion included\n",
      "      in our exchange rate (determined solely by us). Before sending in foreign\n",
      "      currency, you should consider factors that impact the total cost or the amount\n",
      "      available after transfer., 2 = For international wire transfers, other fees may\n",
      "      also apply, including those charged by recipient's financial institution,\n",
      "      foreign taxes, and other fees that are part of the wire transfer process. We\n",
      "      profit from markups associated with the currency conversion included in our\n",
      "      exchange rate (determined solely by us). Before sending in foreign currency, you\n",
      "      should consider factors that impact the total cost or the amount available after\n",
      "      transfer.. Non-Bank of America Teller Withdrawal, 1 = Per transaction, greater\n",
      "      of $5.00 OR 3% of the amount (maximum $10.00) when you use your ATM or debit\n",
      "      card, or card number, to make a withdrawal, transfer or payment at another bank\n",
      "      and it is processed as a cash disbursement.. Non-Bank of America Teller\n",
      "      Withdrawal, 2 = Per transaction, greater of $5.00 OR 3% of the amount (maximum\n",
      "      $10.00) when you use your ATM or debit card, or card number, to make a\n",
      "      withdrawal, transfer or payment at another bank and it is processed as a cash\n",
      "      disbursement.\n",
      "    questions_and_answers:\n",
      "      - question: What is the maximum amount charged for a non-Bank of America Teller\n",
      "          Withdrawal?\n",
      "        answer: $10.00\n",
      "      - question: |-\n",
      "          What are the different fees associated with international wire transfers and\n",
      "          non-Bank of America Teller Withdrawals?\n",
      "        answer: |-\n",
      "          For international wire transfers, fees may include those charged by the\n",
      "          recipient's financial institution, foreign taxes, and other fees that are part\n",
      "          of the wire transfer process. We also profit from markups associated with the\n",
      "          currency conversion. For non-Bank of America Teller Withdrawals, the fee is the\n",
      "          greater of $5.00 or 3% of the amount, with a maximum of $10.00.\n",
      "      - question: |-\n",
      "          Given the fees for non-Bank of America Teller Withdrawals and international wire\n",
      "          transfers, why might it be more cost-effective to use Bank of America's services\n",
      "          for international wire transfers?\n",
      "        answer: |-\n",
      "          Using Bank of America's services for international wire transfers might be more\n",
      "          cost-effective because, although there may be fees associated with the transfer,\n",
      "          the bank determines the exchange rate markups solely, potentially offering a\n",
      "          more favorable rate than other financial institutions. Additionally, there would\n",
      "          be no fees for using a non-Bank of America ATM or debit card for the transfer.\n",
      "          However, one should still consider all factors that could impact the total cost\n",
      "          or the amount available after transfer.\n",
      "  - context: |-\n",
      "      We don't charge overdraft fees on this account. To help you avoid overdrawing your account, transactions will be declined and returned unpaid when you don't have enough money in your account.\n",
      "      If this happens, you won't be charged a bank overdraft fee, but the merchant or third party could charge you a fee. For example, you may be charged a late fee if the payment isn't received on time.\n",
      "      There may still be times when your account could have a negative balance, but we won't charge an overdraft fee.\n",
      "    questions_and_answers:\n",
      "      - question: Does this account charge overdraft fees?\n",
      "        answer: No, this account does not charge overdraft fees.\n",
      "      - question: |-\n",
      "          What happens when a transaction is made without sufficient funds in this\n",
      "          account?\n",
      "        answer: |-\n",
      "          The transaction is declined and returned unpaid, and the merchant or third party\n",
      "          could charge a fee.\n",
      "      - question: |-\n",
      "          If a payment isn't received on time due to a declined transaction, could the\n",
      "          payee charge a late fee?\n",
      "        answer: Yes, the payee could charge a late fee.\n",
      "  - context: |-\n",
      "      Non-Bank of America ATMs, No ATM fee = $2.50. Non-Bank of America ATMs, For deposits, withdrawals, transfers or balance inquiries = In the U.S., plus any fee charged by the ATM's operator. Non-Bank of America ATMs, No ATM fee = $5.00. Non-Bank of America ATMs, For deposits, withdrawals, transfers or balance inquiries = Outside the U.S., plus any fee charged by the ATM's operator. Statement copies, No ATM fee = No fee. Statement copies, For deposits, withdrawals, transfers or balance inquiries = Paper copies available upon request. Printable statements are available in Online Banking.. Stop payment fee, No ATM fee = $30.00. Stop payment fee, For deposits, withdrawals, transfers or balance inquiries = For each request; WAIVED for requests on Bill Pay transactions. Cashier's checks, No ATM fee = $15.00. Cashier's checks, For deposits, withdrawals, transfers or balance inquiries = For each check\n",
      "      of America debit card, and we'll round up your purchases to the nearest dollar amount and transfer the Build your savings automatically when you enroll in our Keep the Change savings program. Simply make everyday purchases with your Bank difference from your checking account to your savings account.\n",
      "      Please see the Personal Schedule of Fees and Deposit Agreement and Disclosures for your account terms, and information on how to link eligible accounts to avoid the Monthly Maintenance Fee.\n",
      "    questions_and_answers:\n",
      "      - question: What is the fee for a cashier's check at a Non-Bank of America ATM?\n",
      "        answer: $15.00\n",
      "      - question: |-\n",
      "          What are the fees for using a Non-Bank of America ATM for various services\n",
      "          within the U.S. and outside the U.S.?\n",
      "        answer: |-\n",
      "          In the U.S., the fee for using a Non-Bank of America ATM for deposits,\n",
      "          withdrawals, transfers, or balance inquiries is the ATM's operator fee plus\n",
      "          $2.50. Outside the U.S., the fee for these services is the ATM's operator fee\n",
      "          plus $5.00.\n",
      "      - question: |-\n",
      "          If you enroll in the Keep the Change savings program, how will your purchases be\n",
      "          handled?\n",
      "        answer: |-\n",
      "          Your purchases will be rounded up to the nearest dollar amount and the\n",
      "          difference will be transferred from your checking account to your savings\n",
      "          account.\n",
      "document_outline: Account information for a specific bank\n",
      "domain: banking\n",
      "\n"
     ]
    }
   ],
   "source": [
    "for contribution in contributions:\n",
    "    qna_output_path = AUTHORING_OUTPUT_DIR / contribution[\"prefix\"] / \"qna.yaml\"\n",
    "\n",
    "    with open(qna_output_path) as yaml_file:\n",
    "        print(f\"========= qna.yaml at {qna_output_path} ==========\")\n",
    "        print(yaml_file.read())\n"
   ]
  },
  {
   "cell_type": "markdown",
   "id": "6c574f96-5860-48b9-b4ac-01d367c7717b",
   "metadata": {},
   "source": [
    "### Revise QAs\n",
    "\n",
    "Open the generated `qna.yaml` in your preferred text editor to ensure the quality of generated questions and answers. If the generation step has failed to generated three questions and answers for each of five contexts, supplant until that required number of QA pairs is reached."
   ]
  },
  {
   "cell_type": "markdown",
   "id": "1f101076-a50f-49ea-a83b-46eaa8b39cc4",
   "metadata": {},
   "source": [
    "## Create Seed Dataset for SDG\n",
    "\n",
    "This section combines the contents from the qna.yaml and the chunks from the source document to create a seed dataset for the synthetic data generation process.\n",
    "\n",
    "To run this step you need a directory that contains `chunks.jsonl` and a `qna.yaml` in the same directory.\n",
    "\n",
    "This step outputs a seed.jsonl file in the SDG_OUTPUT_DIR that you set."
   ]
  },
  {
   "cell_type": "code",
   "execution_count": 38,
   "id": "e2c6e31b-e8a9-406c-b2dc-27433c8fd8ec",
   "metadata": {},
   "outputs": [
    {
     "name": "stderr",
     "output_type": "stream",
     "text": [
      "huggingface/tokenizers: The current process just got forked, after parallelism has already been used. Disabling parallelism to avoid deadlocks...\n",
      "To disable this warning, you can either:\n",
      "\t- Avoid using `tokenizers` before the fork if possible\n",
      "\t- Explicitly set the environment variable TOKENIZERS_PARALLELISM=(true | false)\n"
     ]
    }
   ],
   "source": [
    "!pip install -qq datasets transformers"
   ]
  },
  {
   "cell_type": "code",
   "execution_count": 47,
   "id": "ab2c9ed2-8ba8-4959-8e01-81625b81d286",
   "metadata": {},
   "outputs": [
    {
     "data": {
      "application/vnd.jupyter.widget-view+json": {
       "model_id": "e3ee0f8d1c89435e927863ba0ffa5923",
       "version_major": 2,
       "version_minor": 0
      },
      "text/plain": [
       "Map:   0%|          | 0/1798 [00:00<?, ? examples/s]"
      ]
     },
     "metadata": {},
     "output_type": "display_data"
    },
    {
     "data": {
      "application/vnd.jupyter.widget-view+json": {
       "model_id": "0b69647ea3d241a985a926b371241210",
       "version_major": 2,
       "version_minor": 0
      },
      "text/plain": [
       "Map:   0%|          | 0/1798 [00:00<?, ? examples/s]"
      ]
     },
     "metadata": {},
     "output_type": "display_data"
    },
    {
     "data": {
      "application/vnd.jupyter.widget-view+json": {
       "model_id": "a54a09d2748d4a01b5a57fda6344857a",
       "version_major": 2,
       "version_minor": 0
      },
      "text/plain": [
       "Map:   0%|          | 0/1798 [00:00<?, ? examples/s]"
      ]
     },
     "metadata": {},
     "output_type": "display_data"
    },
    {
     "data": {
      "application/vnd.jupyter.widget-view+json": {
       "model_id": "b2f6b9b7954b4b66abac7e8b385c97d3",
       "version_major": 2,
       "version_minor": 0
      },
      "text/plain": [
       "Map:   0%|          | 0/1798 [00:00<?, ? examples/s]"
      ]
     },
     "metadata": {},
     "output_type": "display_data"
    },
    {
     "data": {
      "application/vnd.jupyter.widget-view+json": {
       "model_id": "b86ffea597dc4078b4264d032def50ea",
       "version_major": 2,
       "version_minor": 0
      },
      "text/plain": [
       "Map:   0%|          | 0/1798 [00:00<?, ? examples/s]"
      ]
     },
     "metadata": {},
     "output_type": "display_data"
    },
    {
     "data": {
      "application/vnd.jupyter.widget-view+json": {
       "model_id": "5934aacd5ebc4898a4e1c7949b9894a4",
       "version_major": 2,
       "version_minor": 0
      },
      "text/plain": [
       "Map:   0%|          | 0/8990 [00:00<?, ? examples/s]"
      ]
     },
     "metadata": {},
     "output_type": "display_data"
    },
    {
     "data": {
      "application/vnd.jupyter.widget-view+json": {
       "model_id": "9ac6364734404a42a42ba953149edc7b",
       "version_major": 2,
       "version_minor": 0
      },
      "text/plain": [
       "Filter:   0%|          | 0/8990 [00:00<?, ? examples/s]"
      ]
     },
     "metadata": {},
     "output_type": "display_data"
    },
    {
     "data": {
      "application/vnd.jupyter.widget-view+json": {
       "model_id": "7fd4213d07d6458595636d4a3c3d1189",
       "version_major": 2,
       "version_minor": 0
      },
      "text/plain": [
       "Map:   0%|          | 0/10 [00:00<?, ? examples/s]"
      ]
     },
     "metadata": {},
     "output_type": "display_data"
    },
    {
     "data": {
      "application/vnd.jupyter.widget-view+json": {
       "model_id": "3c386876528d43baad39def1c1ebf488",
       "version_major": 2,
       "version_minor": 0
      },
      "text/plain": [
       "Map:   0%|          | 0/10 [00:00<?, ? examples/s]"
      ]
     },
     "metadata": {},
     "output_type": "display_data"
    },
    {
     "data": {
      "application/vnd.jupyter.widget-view+json": {
       "model_id": "88348c0f21fe43eb83e2c1953aa54c7d",
       "version_major": 2,
       "version_minor": 0
      },
      "text/plain": [
       "Map:   0%|          | 0/10 [00:00<?, ? examples/s]"
      ]
     },
     "metadata": {},
     "output_type": "display_data"
    },
    {
     "data": {
      "application/vnd.jupyter.widget-view+json": {
       "model_id": "fa7363d80f5b423e8cd8304547fabafd",
       "version_major": 2,
       "version_minor": 0
      },
      "text/plain": [
       "Map:   0%|          | 0/10 [00:00<?, ? examples/s]"
      ]
     },
     "metadata": {},
     "output_type": "display_data"
    },
    {
     "data": {
      "application/vnd.jupyter.widget-view+json": {
       "model_id": "8e555e8db38541fda4b5481ecd356f1a",
       "version_major": 2,
       "version_minor": 0
      },
      "text/plain": [
       "Map:   0%|          | 0/10 [00:00<?, ? examples/s]"
      ]
     },
     "metadata": {},
     "output_type": "display_data"
    },
    {
     "data": {
      "application/vnd.jupyter.widget-view+json": {
       "model_id": "efcce14d53f3457b9459e64c4549dbee",
       "version_major": 2,
       "version_minor": 0
      },
      "text/plain": [
       "Map:   0%|          | 0/50 [00:00<?, ? examples/s]"
      ]
     },
     "metadata": {},
     "output_type": "display_data"
    },
    {
     "data": {
      "application/vnd.jupyter.widget-view+json": {
       "model_id": "702b73ba86f845c280af16188d71f2b6",
       "version_major": 2,
       "version_minor": 0
      },
      "text/plain": [
       "Filter:   0%|          | 0/50 [00:00<?, ? examples/s]"
      ]
     },
     "metadata": {},
     "output_type": "display_data"
    },
    {
     "data": {
      "application/vnd.jupyter.widget-view+json": {
       "model_id": "6af9b75043be419787fcf9b20be84e5b",
       "version_major": 2,
       "version_minor": 0
      },
      "text/plain": [
       "Map:   0%|          | 0/5 [00:00<?, ? examples/s]"
      ]
     },
     "metadata": {},
     "output_type": "display_data"
    },
    {
     "data": {
      "application/vnd.jupyter.widget-view+json": {
       "model_id": "020f450c181946aa871170b8c3ccb951",
       "version_major": 2,
       "version_minor": 0
      },
      "text/plain": [
       "Map:   0%|          | 0/5 [00:00<?, ? examples/s]"
      ]
     },
     "metadata": {},
     "output_type": "display_data"
    },
    {
     "data": {
      "application/vnd.jupyter.widget-view+json": {
       "model_id": "52f50911b9e64f8fabe8aa3c688c10ac",
       "version_major": 2,
       "version_minor": 0
      },
      "text/plain": [
       "Map:   0%|          | 0/5 [00:00<?, ? examples/s]"
      ]
     },
     "metadata": {},
     "output_type": "display_data"
    },
    {
     "data": {
      "application/vnd.jupyter.widget-view+json": {
       "model_id": "45413ce86ec1451d9a2be28c94d28555",
       "version_major": 2,
       "version_minor": 0
      },
      "text/plain": [
       "Map:   0%|          | 0/5 [00:00<?, ? examples/s]"
      ]
     },
     "metadata": {},
     "output_type": "display_data"
    },
    {
     "data": {
      "application/vnd.jupyter.widget-view+json": {
       "model_id": "594299e41ccf4f5a91a02131b3f72d0e",
       "version_major": 2,
       "version_minor": 0
      },
      "text/plain": [
       "Map:   0%|          | 0/5 [00:00<?, ? examples/s]"
      ]
     },
     "metadata": {},
     "output_type": "display_data"
    },
    {
     "data": {
      "application/vnd.jupyter.widget-view+json": {
       "model_id": "61b518e7616d4ebe8ecc3daa3725178c",
       "version_major": 2,
       "version_minor": 0
      },
      "text/plain": [
       "Map:   0%|          | 0/25 [00:00<?, ? examples/s]"
      ]
     },
     "metadata": {},
     "output_type": "display_data"
    },
    {
     "data": {
      "application/vnd.jupyter.widget-view+json": {
       "model_id": "8a3e43b437204f70bb0a8eb63bee9c17",
       "version_major": 2,
       "version_minor": 0
      },
      "text/plain": [
       "Filter:   0%|          | 0/25 [00:00<?, ? examples/s]"
      ]
     },
     "metadata": {},
     "output_type": "display_data"
    },
    {
     "data": {
      "application/vnd.jupyter.widget-view+json": {
       "model_id": "b71da1ee64734d07be712547d1bffadc",
       "version_major": 2,
       "version_minor": 0
      },
      "text/plain": [
       "Map:   0%|          | 0/1798 [00:00<?, ? examples/s]"
      ]
     },
     "metadata": {},
     "output_type": "display_data"
    },
    {
     "data": {
      "application/vnd.jupyter.widget-view+json": {
       "model_id": "e9619323ce994418a9619723773b05bf",
       "version_major": 2,
       "version_minor": 0
      },
      "text/plain": [
       "Map:   0%|          | 0/1798 [00:00<?, ? examples/s]"
      ]
     },
     "metadata": {},
     "output_type": "display_data"
    },
    {
     "data": {
      "application/vnd.jupyter.widget-view+json": {
       "model_id": "dd4c107d13f245f3a1be229c65a06531",
       "version_major": 2,
       "version_minor": 0
      },
      "text/plain": [
       "Map:   0%|          | 0/1798 [00:00<?, ? examples/s]"
      ]
     },
     "metadata": {},
     "output_type": "display_data"
    },
    {
     "data": {
      "application/vnd.jupyter.widget-view+json": {
       "model_id": "5f546b7133c843a5a6698aac7211b144",
       "version_major": 2,
       "version_minor": 0
      },
      "text/plain": [
       "Map:   0%|          | 0/1798 [00:00<?, ? examples/s]"
      ]
     },
     "metadata": {},
     "output_type": "display_data"
    },
    {
     "data": {
      "application/vnd.jupyter.widget-view+json": {
       "model_id": "86b226be63c544b5ac18d962bba8a21e",
       "version_major": 2,
       "version_minor": 0
      },
      "text/plain": [
       "Map:   0%|          | 0/1798 [00:00<?, ? examples/s]"
      ]
     },
     "metadata": {},
     "output_type": "display_data"
    },
    {
     "data": {
      "application/vnd.jupyter.widget-view+json": {
       "model_id": "8139b4f2aadc44aeb8d485d023357569",
       "version_major": 2,
       "version_minor": 0
      },
      "text/plain": [
       "Map:   0%|          | 0/8990 [00:00<?, ? examples/s]"
      ]
     },
     "metadata": {},
     "output_type": "display_data"
    },
    {
     "data": {
      "application/vnd.jupyter.widget-view+json": {
       "model_id": "a0b5a1c3923f492f827202a38761d32b",
       "version_major": 2,
       "version_minor": 0
      },
      "text/plain": [
       "Filter:   0%|          | 0/8990 [00:00<?, ? examples/s]"
      ]
     },
     "metadata": {},
     "output_type": "display_data"
    },
    {
     "data": {
      "application/vnd.jupyter.widget-view+json": {
       "model_id": "7913d0b16534410880b700664c31e1df",
       "version_major": 2,
       "version_minor": 0
      },
      "text/plain": [
       "Map:   0%|          | 0/10 [00:00<?, ? examples/s]"
      ]
     },
     "metadata": {},
     "output_type": "display_data"
    },
    {
     "data": {
      "application/vnd.jupyter.widget-view+json": {
       "model_id": "1f4920eacce04cc49730fbc02c32b993",
       "version_major": 2,
       "version_minor": 0
      },
      "text/plain": [
       "Map:   0%|          | 0/10 [00:00<?, ? examples/s]"
      ]
     },
     "metadata": {},
     "output_type": "display_data"
    },
    {
     "data": {
      "application/vnd.jupyter.widget-view+json": {
       "model_id": "6178b789c0474c948c891ea5e3006719",
       "version_major": 2,
       "version_minor": 0
      },
      "text/plain": [
       "Map:   0%|          | 0/10 [00:00<?, ? examples/s]"
      ]
     },
     "metadata": {},
     "output_type": "display_data"
    },
    {
     "data": {
      "application/vnd.jupyter.widget-view+json": {
       "model_id": "16a4e0ce42ec49529ba6d0ee904e854e",
       "version_major": 2,
       "version_minor": 0
      },
      "text/plain": [
       "Map:   0%|          | 0/10 [00:00<?, ? examples/s]"
      ]
     },
     "metadata": {},
     "output_type": "display_data"
    },
    {
     "data": {
      "application/vnd.jupyter.widget-view+json": {
       "model_id": "b44d89b157e84f5881d0c0658ecff86b",
       "version_major": 2,
       "version_minor": 0
      },
      "text/plain": [
       "Map:   0%|          | 0/10 [00:00<?, ? examples/s]"
      ]
     },
     "metadata": {},
     "output_type": "display_data"
    },
    {
     "data": {
      "application/vnd.jupyter.widget-view+json": {
       "model_id": "4d4f24315dac4cdd9e99722f826c3dae",
       "version_major": 2,
       "version_minor": 0
      },
      "text/plain": [
       "Map:   0%|          | 0/50 [00:00<?, ? examples/s]"
      ]
     },
     "metadata": {},
     "output_type": "display_data"
    },
    {
     "data": {
      "application/vnd.jupyter.widget-view+json": {
       "model_id": "63ab41e4ab964457a5cd05de412f1502",
       "version_major": 2,
       "version_minor": 0
      },
      "text/plain": [
       "Filter:   0%|          | 0/50 [00:00<?, ? examples/s]"
      ]
     },
     "metadata": {},
     "output_type": "display_data"
    },
    {
     "data": {
      "application/vnd.jupyter.widget-view+json": {
       "model_id": "26d64b525680413ca786217d09ced396",
       "version_major": 2,
       "version_minor": 0
      },
      "text/plain": [
       "Map:   0%|          | 0/5 [00:00<?, ? examples/s]"
      ]
     },
     "metadata": {},
     "output_type": "display_data"
    },
    {
     "data": {
      "application/vnd.jupyter.widget-view+json": {
       "model_id": "65ad5a34887446c6889ab6457dbf6116",
       "version_major": 2,
       "version_minor": 0
      },
      "text/plain": [
       "Map:   0%|          | 0/5 [00:00<?, ? examples/s]"
      ]
     },
     "metadata": {},
     "output_type": "display_data"
    },
    {
     "data": {
      "application/vnd.jupyter.widget-view+json": {
       "model_id": "a07ec71549fd4e64b180a2c6b673e175",
       "version_major": 2,
       "version_minor": 0
      },
      "text/plain": [
       "Map:   0%|          | 0/5 [00:00<?, ? examples/s]"
      ]
     },
     "metadata": {},
     "output_type": "display_data"
    },
    {
     "data": {
      "application/vnd.jupyter.widget-view+json": {
       "model_id": "0474ba5867a842d98ed30b9d396e0539",
       "version_major": 2,
       "version_minor": 0
      },
      "text/plain": [
       "Map:   0%|          | 0/5 [00:00<?, ? examples/s]"
      ]
     },
     "metadata": {},
     "output_type": "display_data"
    },
    {
     "data": {
      "application/vnd.jupyter.widget-view+json": {
       "model_id": "115d5a63986a48e0a274a350668c01c9",
       "version_major": 2,
       "version_minor": 0
      },
      "text/plain": [
       "Map:   0%|          | 0/5 [00:00<?, ? examples/s]"
      ]
     },
     "metadata": {},
     "output_type": "display_data"
    },
    {
     "data": {
      "application/vnd.jupyter.widget-view+json": {
       "model_id": "bc02423dca15437b94d739a84680589c",
       "version_major": 2,
       "version_minor": 0
      },
      "text/plain": [
       "Map:   0%|          | 0/25 [00:00<?, ? examples/s]"
      ]
     },
     "metadata": {},
     "output_type": "display_data"
    },
    {
     "data": {
      "application/vnd.jupyter.widget-view+json": {
       "model_id": "efd64c3801f44885ab625978fa8dd252",
       "version_major": 2,
       "version_minor": 0
      },
      "text/plain": [
       "Filter:   0%|          | 0/25 [00:00<?, ? examples/s]"
      ]
     },
     "metadata": {},
     "output_type": "display_data"
    },
    {
     "data": {
      "application/vnd.jupyter.widget-view+json": {
       "model_id": "89bc5361ddc94ca887ae1969ee52659d",
       "version_major": 2,
       "version_minor": 0
      },
      "text/plain": [
       "Creating json from Arrow format:   0%|          | 0/16 [00:00<?, ?ba/s]"
      ]
     },
     "metadata": {},
     "output_type": "display_data"
    },
    {
     "name": "stdout",
     "output_type": "stream",
     "text": [
      "Seed data contains 18130 rows\n",
      "Results saved to: workspaces/default/sdg/seed_data.jsonl\n"
     ]
    }
   ],
   "source": [
    "from utils.create_seed_dataset import get_seed_dataset, safe_concatenate_datasets\n",
    "\n",
    "contribution_datasets = []\n",
    "for contribution in contributions:\n",
    "    chunks_dir = Path(CHUNKING_OUTPUT_DIR / contribution[\"prefix\"])\n",
    "    qna_dir = Path(AUTHORING_OUTPUT_DIR / contribution[\"prefix\"])\n",
    "    seed_data = get_seed_dataset(chunks_dir, qna_dir)\n",
    "    contribution_datasets.append(seed_data)\n",
    "\n",
    "final_seed_data = safe_concatenate_datasets(contribution_datasets)\n",
    "output_path = f'{SDG_OUTPUT_DIR}/seed_data.jsonl'\n",
    "final_seed_data.to_json(output_path, orient='records', lines=True)\n",
    "\n",
    "print(f\"Seed data contains {final_seed_data.data.num_rows} rows\")\n",
    "print(f\"Results saved to: {output_path}\")"
   ]
  },
  {
   "cell_type": "markdown",
   "id": "50ff36f4-19fc-4a27-b51a-3688e7b630e4",
   "metadata": {},
   "source": [
    "### Inspect the seed data"
   ]
  },
  {
   "cell_type": "code",
   "execution_count": 48,
   "id": "a6936825-31c1-4b46-a1af-2fb46f50158d",
   "metadata": {},
   "outputs": [
    {
     "name": "stdout",
     "output_type": "stream",
     "text": [
      "pyarrow.Table\n",
      "document_outline: string\n",
      "document_title: string\n",
      "domain: string\n",
      "icl_document: string\n",
      "icl_query_1: string\n",
      "icl_response_1: string\n",
      "icl_query_2: string\n",
      "icl_response_2: string\n",
      "icl_query_3: string\n",
      "icl_response_3: string\n",
      "document: string\n",
      "----\n",
      "document_outline: [[\"Account information for a specific bank\"]]\n",
      "document_title: [[\"2022-nfl-rulebook-final\"]]\n",
      "domain: [[\"banking\"]]\n",
      "icl_document: [[\"On A's kickoff from the A35, Team A has five players to the right of the kicker and five players to the left, all legally set. As the kicker approaches the ball, the wind blows the ball off the tee. Team A brings A1, the widest man, from outside the yard-line numbers in to be the holder. This leaves Team A with just one player outside the yard-line numbers on that side. The ball is kicked through the end zone.\n",
      "Ruling : B's ball, first-and-10 on B30 or re-kick A30. Illegal formation. Even though the holder counts toward either side for the purpose of five on each side, Team A must still have two players outside the yard-line numbers and two players, (other than the holder), between the inbounds line and the yard-line numbers.\"]]\n",
      "icl_query_1: [[\"How many players were initially on each side of Team A's kicker before the ball\n",
      "was blown off the tee?\"]]\n",
      "icl_response_1: [[\"There were five players on each side of Team A's kicker before the ball was\n",
      "blown off the tee.\"]]\n",
      "icl_query_2: [[\"What is the ruling for Team A's formation after the ball was blown off the tee\n",
      "and A1 came in as the holder?\"]]\n",
      "icl_response_2: [[\"The ruling is that it is an illegal formation. Team A must have two players\n",
      "outside the yard-line numbers and two players between the inbounds line and the\n",
      "yard-line numbers, other than the holder.\"]]\n",
      "icl_query_3: [[\"Based on the information provided, why was the kick through the end zone\n",
      "considered illegal?\"]]\n",
      "icl_response_3: [[\"The kick through the end zone was considered illegal because Team A had an\n",
      "illegal formation at the time of the kick.\"]]\n",
      "...\n"
     ]
    }
   ],
   "source": [
    "print(seed_data.data.table.slice(length=1))"
   ]
  },
  {
   "cell_type": "markdown",
   "id": "24a8fcdb-8035-4f30-b856-46afe9f928a1",
   "metadata": {},
   "source": [
    "# Summary\n",
    "\n",
    "To recap, given a source document in PDF format, this notebook:\n",
    "\n",
    "1. Converted the document using document and saved it to JSON for inspection\n",
    "2. Split the extracted text into chunks\n",
    "3. Generated QA pairs for a subset of those chunks\n",
    "4. Created a `qna.yaml` available for inspection and revision\n",
    "5. Combined the chunks and `qna.yaml` to create a `seed_data.jsonl` for use with SDG\n",
    "\n",
    "The next step is to use the resulting `seed_data.jsonl` for SDG, such as illustrated in [this notebook](https://github.com/Red-Hat-AI-Innovation-Team/sdg_hub/blob/main/examples/instructlab/knowledge/knowledge_generation_and_mixing.ipynb)."
   ]
  }
 ],
 "metadata": {
  "kernelspec": {
   "display_name": "Python 3 (ipykernel)",
   "language": "python",
   "name": "python3"
  },
  "language_info": {
   "codemirror_mode": {
    "name": "ipython",
    "version": 3
   },
   "file_extension": ".py",
   "mimetype": "text/x-python",
   "name": "python",
   "nbconvert_exporter": "python",
   "pygments_lexer": "ipython3",
   "version": "3.12.10"
  }
 },
 "nbformat": 4,
 "nbformat_minor": 5
}
