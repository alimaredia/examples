{
 "cells": [
  {
   "cell_type": "code",
   "execution_count": null,
   "id": "8d7c5a98-39f6-4744-b593-db800d9de9f0",
   "metadata": {
    "jp-MarkdownHeadingCollapsed": true
   },
   "outputs": [],
   "source": [
    "# design goals:\n",
    "#\n",
    "# - understandability\n",
    "# - modularity\n",
    "# - configurability"
   ]
  },
  {
   "cell_type": "markdown",
   "id": "81b558ae-4e27-4fa3-8124-f69309c91caa",
   "metadata": {},
   "source": [
    "# config"
   ]
  },
  {
   "cell_type": "code",
   "execution_count": 1,
   "id": "7771a0f6-c826-421f-8225-8bb1d33f93c1",
   "metadata": {},
   "outputs": [],
   "source": [
    "from pathlib import Path"
   ]
  },
  {
   "cell_type": "code",
   "execution_count": 2,
   "id": "0acd026f-65bd-4393-bb40-f8aa8bd6828b",
   "metadata": {},
   "outputs": [],
   "source": [
    "WORKSPACE_DIR=\"workspaces/default\"\n",
    "\n",
    "CONVERSION_OUTPUT_DIR = Path(f\"{WORKSPACE_DIR}/conversion\")\n",
    "CONVERSION_OUTPUT_DIR.mkdir(parents=True, exist_ok=True)\n",
    "\n",
    "CHUNKING_OUTPUT_DIR = Path(f\"{WORKSPACE_DIR}/chunking\")\n",
    "CHUNKING_OUTPUT_DIR.mkdir(exist_ok=True)\n",
    "\n",
    "SEED_EXAMPLE_OUTPUT_DIR = Path(f\"{WORKSPACE_DIR}/seed-examples\")\n",
    "SEED_EXAMPLE_OUTPUT_DIR.mkdir(exist_ok=True)\n",
    "\n",
    "SDG_OUTPUT_DIR = Path(f\"{WORKSPACE_DIR}/sdg\")\n",
    "SDG_OUTPUT_DIR.mkdir(exist_ok=True)"
   ]
  },
  {
   "cell_type": "markdown",
   "id": "f7067d3d-a374-4e4b-8f4e-0acaad2c3495",
   "metadata": {},
   "source": [
    "Install dependencies for all "
   ]
  },
  {
   "cell_type": "code",
   "execution_count": 3,
   "id": "ab306ac8-d110-4dfc-ae1f-81dab6f2eebe",
   "metadata": {},
   "outputs": [
    {
     "name": "stdout",
     "output_type": "stream",
     "text": [
      "Requirement already satisfied: docling in ./venv/lib/python3.12/site-packages (2.31.0)\n",
      "Requirement already satisfied: beautifulsoup4<5.0.0,>=4.12.3 in ./venv/lib/python3.12/site-packages (from docling) (4.13.4)\n",
      "Requirement already satisfied: certifi>=2024.7.4 in ./venv/lib/python3.12/site-packages (from docling) (2025.4.26)\n",
      "Requirement already satisfied: docling-core<3.0.0,>=2.26.0 in ./venv/lib/python3.12/site-packages (from docling-core[chunking]<3.0.0,>=2.26.0->docling) (2.29.0)\n",
      "Requirement already satisfied: docling-ibm-models<4.0.0,>=3.4.0 in ./venv/lib/python3.12/site-packages (from docling) (3.4.2)\n",
      "Requirement already satisfied: docling-parse<5.0.0,>=4.0.0 in ./venv/lib/python3.12/site-packages (from docling) (4.0.1)\n",
      "Requirement already satisfied: easyocr<2.0,>=1.7 in ./venv/lib/python3.12/site-packages (from docling) (1.7.2)\n",
      "Requirement already satisfied: filetype<2.0.0,>=1.2.0 in ./venv/lib/python3.12/site-packages (from docling) (1.2.0)\n",
      "Requirement already satisfied: huggingface_hub<1,>=0.23 in ./venv/lib/python3.12/site-packages (from docling) (0.30.2)\n",
      "Requirement already satisfied: lxml<6.0.0,>=4.0.0 in ./venv/lib/python3.12/site-packages (from docling) (5.4.0)\n",
      "Requirement already satisfied: marko<3.0.0,>=2.1.2 in ./venv/lib/python3.12/site-packages (from docling) (2.1.3)\n",
      "Requirement already satisfied: openpyxl<4.0.0,>=3.1.5 in ./venv/lib/python3.12/site-packages (from docling) (3.1.5)\n",
      "Requirement already satisfied: pandas<3.0.0,>=2.1.4 in ./venv/lib/python3.12/site-packages (from docling) (2.2.3)\n",
      "Requirement already satisfied: pillow<12.0.0,>=10.0.0 in ./venv/lib/python3.12/site-packages (from docling) (11.2.1)\n",
      "Requirement already satisfied: pluggy<2.0.0,>=1.0.0 in ./venv/lib/python3.12/site-packages (from docling) (1.5.0)\n",
      "Requirement already satisfied: pydantic<3.0.0,>=2.0.0 in ./venv/lib/python3.12/site-packages (from docling) (2.11.4)\n",
      "Requirement already satisfied: pydantic-settings<3.0.0,>=2.3.0 in ./venv/lib/python3.12/site-packages (from docling) (2.9.1)\n",
      "Requirement already satisfied: pylatexenc<3.0,>=2.10 in ./venv/lib/python3.12/site-packages (from docling) (2.10)\n",
      "Requirement already satisfied: pypdfium2<5.0.0,>=4.30.0 in ./venv/lib/python3.12/site-packages (from docling) (4.30.1)\n",
      "Requirement already satisfied: python-docx<2.0.0,>=1.1.2 in ./venv/lib/python3.12/site-packages (from docling) (1.1.2)\n",
      "Requirement already satisfied: python-pptx<2.0.0,>=1.0.2 in ./venv/lib/python3.12/site-packages (from docling) (1.0.2)\n",
      "Requirement already satisfied: requests<3.0.0,>=2.32.2 in ./venv/lib/python3.12/site-packages (from docling) (2.32.3)\n",
      "Requirement already satisfied: rtree<2.0.0,>=1.3.0 in ./venv/lib/python3.12/site-packages (from docling) (1.4.0)\n",
      "Requirement already satisfied: scipy<2.0.0,>=1.6.0 in ./venv/lib/python3.12/site-packages (from docling) (1.15.2)\n",
      "Requirement already satisfied: tqdm<5.0.0,>=4.65.0 in ./venv/lib/python3.12/site-packages (from docling) (4.67.1)\n",
      "Requirement already satisfied: typer<0.16.0,>=0.12.5 in ./venv/lib/python3.12/site-packages (from docling) (0.15.3)\n",
      "Requirement already satisfied: soupsieve>1.2 in ./venv/lib/python3.12/site-packages (from beautifulsoup4<5.0.0,>=4.12.3->docling) (2.7)\n",
      "Requirement already satisfied: typing-extensions>=4.0.0 in ./venv/lib/python3.12/site-packages (from beautifulsoup4<5.0.0,>=4.12.3->docling) (4.13.2)\n",
      "Requirement already satisfied: jsonref<2.0.0,>=1.1.0 in ./venv/lib/python3.12/site-packages (from docling-core<3.0.0,>=2.26.0->docling-core[chunking]<3.0.0,>=2.26.0->docling) (1.1.0)\n",
      "Requirement already satisfied: jsonschema<5.0.0,>=4.16.0 in ./venv/lib/python3.12/site-packages (from docling-core<3.0.0,>=2.26.0->docling-core[chunking]<3.0.0,>=2.26.0->docling) (4.23.0)\n",
      "Requirement already satisfied: latex2mathml<4.0.0,>=3.77.0 in ./venv/lib/python3.12/site-packages (from docling-core<3.0.0,>=2.26.0->docling-core[chunking]<3.0.0,>=2.26.0->docling) (3.78.0)\n",
      "Requirement already satisfied: pyyaml<7.0.0,>=5.1 in ./venv/lib/python3.12/site-packages (from docling-core<3.0.0,>=2.26.0->docling-core[chunking]<3.0.0,>=2.26.0->docling) (6.0.2)\n",
      "Requirement already satisfied: tabulate<0.10.0,>=0.9.0 in ./venv/lib/python3.12/site-packages (from docling-core<3.0.0,>=2.26.0->docling-core[chunking]<3.0.0,>=2.26.0->docling) (0.9.0)\n",
      "Requirement already satisfied: semchunk<3.0.0,>=2.2.0 in ./venv/lib/python3.12/site-packages (from docling-core[chunking]<3.0.0,>=2.26.0->docling) (2.2.2)\n",
      "Requirement already satisfied: transformers<5.0.0,>=4.34.0 in ./venv/lib/python3.12/site-packages (from docling-core[chunking]<3.0.0,>=2.26.0->docling) (4.51.3)\n",
      "Requirement already satisfied: jsonlines<4.0.0,>=3.1.0 in ./venv/lib/python3.12/site-packages (from docling-ibm-models<4.0.0,>=3.4.0->docling) (3.1.0)\n",
      "Requirement already satisfied: numpy<3.0.0,>=1.24.4 in ./venv/lib/python3.12/site-packages (from docling-ibm-models<4.0.0,>=3.4.0->docling) (2.2.5)\n",
      "Requirement already satisfied: opencv-python-headless<5.0.0.0,>=4.6.0.66 in ./venv/lib/python3.12/site-packages (from docling-ibm-models<4.0.0,>=3.4.0->docling) (4.11.0.86)\n",
      "Requirement already satisfied: safetensors<1,>=0.4.3 in ./venv/lib/python3.12/site-packages (from safetensors[torch]<1,>=0.4.3->docling-ibm-models<4.0.0,>=3.4.0->docling) (0.5.3)\n",
      "Requirement already satisfied: torch<3.0.0,>=2.2.2 in ./venv/lib/python3.12/site-packages (from docling-ibm-models<4.0.0,>=3.4.0->docling) (2.7.0)\n",
      "Requirement already satisfied: torchvision<1,>=0 in ./venv/lib/python3.12/site-packages (from docling-ibm-models<4.0.0,>=3.4.0->docling) (0.22.0)\n",
      "Requirement already satisfied: scikit-image in ./venv/lib/python3.12/site-packages (from easyocr<2.0,>=1.7->docling) (0.25.2)\n",
      "Requirement already satisfied: python-bidi in ./venv/lib/python3.12/site-packages (from easyocr<2.0,>=1.7->docling) (0.6.6)\n",
      "Requirement already satisfied: Shapely in ./venv/lib/python3.12/site-packages (from easyocr<2.0,>=1.7->docling) (2.1.0)\n",
      "Requirement already satisfied: pyclipper in ./venv/lib/python3.12/site-packages (from easyocr<2.0,>=1.7->docling) (1.3.0.post6)\n",
      "Requirement already satisfied: ninja in ./venv/lib/python3.12/site-packages (from easyocr<2.0,>=1.7->docling) (1.11.1.4)\n",
      "Requirement already satisfied: filelock in ./venv/lib/python3.12/site-packages (from huggingface_hub<1,>=0.23->docling) (3.18.0)\n",
      "Requirement already satisfied: fsspec>=2023.5.0 in ./venv/lib/python3.12/site-packages (from huggingface_hub<1,>=0.23->docling) (2025.3.2)\n",
      "Requirement already satisfied: packaging>=20.9 in ./venv/lib/python3.12/site-packages (from huggingface_hub<1,>=0.23->docling) (25.0)\n",
      "Requirement already satisfied: et-xmlfile in ./venv/lib/python3.12/site-packages (from openpyxl<4.0.0,>=3.1.5->docling) (2.0.0)\n",
      "Requirement already satisfied: python-dateutil>=2.8.2 in ./venv/lib/python3.12/site-packages (from pandas<3.0.0,>=2.1.4->docling) (2.9.0.post0)\n",
      "Requirement already satisfied: pytz>=2020.1 in ./venv/lib/python3.12/site-packages (from pandas<3.0.0,>=2.1.4->docling) (2025.2)\n",
      "Requirement already satisfied: tzdata>=2022.7 in ./venv/lib/python3.12/site-packages (from pandas<3.0.0,>=2.1.4->docling) (2025.2)\n",
      "Requirement already satisfied: annotated-types>=0.6.0 in ./venv/lib/python3.12/site-packages (from pydantic<3.0.0,>=2.0.0->docling) (0.7.0)\n",
      "Requirement already satisfied: pydantic-core==2.33.2 in ./venv/lib/python3.12/site-packages (from pydantic<3.0.0,>=2.0.0->docling) (2.33.2)\n",
      "Requirement already satisfied: typing-inspection>=0.4.0 in ./venv/lib/python3.12/site-packages (from pydantic<3.0.0,>=2.0.0->docling) (0.4.0)\n",
      "Requirement already satisfied: python-dotenv>=0.21.0 in ./venv/lib/python3.12/site-packages (from pydantic-settings<3.0.0,>=2.3.0->docling) (1.1.0)\n",
      "Requirement already satisfied: XlsxWriter>=0.5.7 in ./venv/lib/python3.12/site-packages (from python-pptx<2.0.0,>=1.0.2->docling) (3.2.3)\n",
      "Requirement already satisfied: charset-normalizer<4,>=2 in ./venv/lib/python3.12/site-packages (from requests<3.0.0,>=2.32.2->docling) (3.4.2)\n",
      "Requirement already satisfied: idna<4,>=2.5 in ./venv/lib/python3.12/site-packages (from requests<3.0.0,>=2.32.2->docling) (3.10)\n",
      "Requirement already satisfied: urllib3<3,>=1.21.1 in ./venv/lib/python3.12/site-packages (from requests<3.0.0,>=2.32.2->docling) (2.4.0)\n",
      "Requirement already satisfied: click>=8.0.0 in ./venv/lib/python3.12/site-packages (from typer<0.16.0,>=0.12.5->docling) (8.1.8)\n",
      "Requirement already satisfied: shellingham>=1.3.0 in ./venv/lib/python3.12/site-packages (from typer<0.16.0,>=0.12.5->docling) (1.5.4)\n",
      "Requirement already satisfied: rich>=10.11.0 in ./venv/lib/python3.12/site-packages (from typer<0.16.0,>=0.12.5->docling) (14.0.0)\n",
      "Requirement already satisfied: attrs>=19.2.0 in ./venv/lib/python3.12/site-packages (from jsonlines<4.0.0,>=3.1.0->docling-ibm-models<4.0.0,>=3.4.0->docling) (25.3.0)\n",
      "Requirement already satisfied: jsonschema-specifications>=2023.03.6 in ./venv/lib/python3.12/site-packages (from jsonschema<5.0.0,>=4.16.0->docling-core<3.0.0,>=2.26.0->docling-core[chunking]<3.0.0,>=2.26.0->docling) (2025.4.1)\n",
      "Requirement already satisfied: referencing>=0.28.4 in ./venv/lib/python3.12/site-packages (from jsonschema<5.0.0,>=4.16.0->docling-core<3.0.0,>=2.26.0->docling-core[chunking]<3.0.0,>=2.26.0->docling) (0.36.2)\n",
      "Requirement already satisfied: rpds-py>=0.7.1 in ./venv/lib/python3.12/site-packages (from jsonschema<5.0.0,>=4.16.0->docling-core<3.0.0,>=2.26.0->docling-core[chunking]<3.0.0,>=2.26.0->docling) (0.24.0)\n",
      "Requirement already satisfied: six>=1.5 in ./venv/lib/python3.12/site-packages (from python-dateutil>=2.8.2->pandas<3.0.0,>=2.1.4->docling) (1.17.0)\n",
      "Requirement already satisfied: markdown-it-py>=2.2.0 in ./venv/lib/python3.12/site-packages (from rich>=10.11.0->typer<0.16.0,>=0.12.5->docling) (3.0.0)\n",
      "Requirement already satisfied: pygments<3.0.0,>=2.13.0 in ./venv/lib/python3.12/site-packages (from rich>=10.11.0->typer<0.16.0,>=0.12.5->docling) (2.19.1)\n",
      "Requirement already satisfied: mpire[dill] in ./venv/lib/python3.12/site-packages (from semchunk<3.0.0,>=2.2.0->docling-core[chunking]<3.0.0,>=2.26.0->docling) (2.10.2)\n",
      "Requirement already satisfied: setuptools in ./venv/lib/python3.12/site-packages (from torch<3.0.0,>=2.2.2->docling-ibm-models<4.0.0,>=3.4.0->docling) (80.3.1)\n",
      "Requirement already satisfied: sympy>=1.13.3 in ./venv/lib/python3.12/site-packages (from torch<3.0.0,>=2.2.2->docling-ibm-models<4.0.0,>=3.4.0->docling) (1.14.0)\n",
      "Requirement already satisfied: networkx in ./venv/lib/python3.12/site-packages (from torch<3.0.0,>=2.2.2->docling-ibm-models<4.0.0,>=3.4.0->docling) (3.4.2)\n",
      "Requirement already satisfied: jinja2 in ./venv/lib/python3.12/site-packages (from torch<3.0.0,>=2.2.2->docling-ibm-models<4.0.0,>=3.4.0->docling) (3.1.6)\n",
      "Requirement already satisfied: regex!=2019.12.17 in ./venv/lib/python3.12/site-packages (from transformers<5.0.0,>=4.34.0->docling-core[chunking]<3.0.0,>=2.26.0->docling) (2024.11.6)\n",
      "Requirement already satisfied: tokenizers<0.22,>=0.21 in ./venv/lib/python3.12/site-packages (from transformers<5.0.0,>=4.34.0->docling-core[chunking]<3.0.0,>=2.26.0->docling) (0.21.1)\n",
      "Requirement already satisfied: imageio!=2.35.0,>=2.33 in ./venv/lib/python3.12/site-packages (from scikit-image->easyocr<2.0,>=1.7->docling) (2.37.0)\n",
      "Requirement already satisfied: tifffile>=2022.8.12 in ./venv/lib/python3.12/site-packages (from scikit-image->easyocr<2.0,>=1.7->docling) (2025.3.30)\n",
      "Requirement already satisfied: lazy-loader>=0.4 in ./venv/lib/python3.12/site-packages (from scikit-image->easyocr<2.0,>=1.7->docling) (0.4)\n",
      "Requirement already satisfied: mdurl~=0.1 in ./venv/lib/python3.12/site-packages (from markdown-it-py>=2.2.0->rich>=10.11.0->typer<0.16.0,>=0.12.5->docling) (0.1.2)\n",
      "Requirement already satisfied: mpmath<1.4,>=1.1.0 in ./venv/lib/python3.12/site-packages (from sympy>=1.13.3->torch<3.0.0,>=2.2.2->docling-ibm-models<4.0.0,>=3.4.0->docling) (1.3.0)\n",
      "Requirement already satisfied: MarkupSafe>=2.0 in ./venv/lib/python3.12/site-packages (from jinja2->torch<3.0.0,>=2.2.2->docling-ibm-models<4.0.0,>=3.4.0->docling) (3.0.2)\n",
      "Requirement already satisfied: multiprocess>=0.70.15 in ./venv/lib/python3.12/site-packages (from mpire[dill]->semchunk<3.0.0,>=2.2.0->docling-core[chunking]<3.0.0,>=2.26.0->docling) (0.70.18)\n",
      "Requirement already satisfied: dill>=0.4.0 in ./venv/lib/python3.12/site-packages (from multiprocess>=0.70.15->mpire[dill]->semchunk<3.0.0,>=2.2.0->docling-core[chunking]<3.0.0,>=2.26.0->docling) (0.4.0)\n",
      "\n",
      "\u001b[1m[\u001b[0m\u001b[34;49mnotice\u001b[0m\u001b[1;39;49m]\u001b[0m\u001b[39;49m A new release of pip is available: \u001b[0m\u001b[31;49m25.0.1\u001b[0m\u001b[39;49m -> \u001b[0m\u001b[32;49m25.1.1\u001b[0m\n",
      "\u001b[1m[\u001b[0m\u001b[34;49mnotice\u001b[0m\u001b[1;39;49m]\u001b[0m\u001b[39;49m To update, run: \u001b[0m\u001b[32;49mpip install --upgrade pip\u001b[0m\n"
     ]
    }
   ],
   "source": [
    "!pip install docling"
   ]
  },
  {
   "cell_type": "code",
   "execution_count": 4,
   "id": "012dbcdf-93d7-474f-9826-77866ceb815e",
   "metadata": {},
   "outputs": [],
   "source": [
    "# conversion"
   ]
  },
  {
   "cell_type": "markdown",
   "id": "7fca05bd-8b98-4187-b82f-6cf23a91875c",
   "metadata": {},
   "source": [
    "## Chunking\n",
    "\n",
    "The goal of chunking for model customization with knowledge pipeline is to provide the teacher model small and logical pieces of the source document to generate data off of.\n",
    "\n",
    "In this notebook we are doing chunking with (Docling)[https://docling-project.github.io/docling/examples/hybrid_chunking/#hybrid-chunking].\n",
    "\n",
    "The input to this notebook is a docling JSON file created after a docling conversion, or a directory of docling JSON files."
   ]
  },
  {
   "cell_type": "code",
   "execution_count": 14,
   "id": "9abc1c16-ea51-444e-bf35-eebecb0efacf",
   "metadata": {},
   "outputs": [],
   "source": [
    "from docling.document_converter import DocumentConverter\n",
    "from docling.chunking import HybridChunker, HierarchicalChunker\n",
    "from pathlib import Path\n",
    "import json"
   ]
  },
  {
   "cell_type": "markdown",
   "id": "c432cf8d-7cab-4ddb-a08b-d5b7d2dc2521",
   "metadata": {},
   "source": [
    "### Set the source document path\n",
    "\n",
    "Here we're going to want to set the converted.json that comes from the conversion notebook.\n",
    "\n",
    "If the conversion notebook was not run then, setting the path to the source document in any form is fine."
   ]
  },
  {
   "cell_type": "code",
   "execution_count": 15,
   "id": "2ba14f11-ea09-436d-a1a7-94dc482dfb70",
   "metadata": {
    "scrolled": true
   },
   "outputs": [
    {
     "name": "stdout",
     "output_type": "stream",
     "text": [
      "Docling JSON's to chunk: [PosixPath('workspaces/default/conversion/cargo-theft-report-2018.json')]\n"
     ]
    }
   ],
   "source": [
    "files = list(CONVERSION_OUTPUT_DIR.rglob(\"*.json\"))\n",
    "print(f\"Docling JSON's to chunk: {files}\")"
   ]
  },
  {
   "cell_type": "markdown",
   "id": "7f6d52d3-0a00-47fa-8aff-be0683fc5338",
   "metadata": {},
   "source": [
    "### Initialize the Chunker\n",
    "\n",
    "Docling provides two chunkers, the `HierarchicalChunker` and the `HybridChunker`.\n",
    "The `HierarchicalChunker` creates chunks based on the hierarchy in the Docling document\n",
    "\n",
    "The `HybridChunker` builds on the `HierarchicalChunker` and by making it tokenization aware.\n",
    "\n",
    "The `HybridChunker` has options for a `tokenizer`, the `max_tokens` in a chunk, and whether to merge undersized peer chunks."
   ]
  },
  {
   "cell_type": "code",
   "execution_count": 16,
   "id": "89448c60-ed7b-48a1-bad1-eab2c664d88d",
   "metadata": {},
   "outputs": [],
   "source": [
    "#chunker = HierarchicalChunker()\n",
    "chunker = HybridChunker()"
   ]
  },
  {
   "cell_type": "markdown",
   "id": "7df0d5e4-bf96-4f75-b6f2-6ed882912268",
   "metadata": {},
   "source": [
    "## Load and chunk the converted docling document\n",
    "\n",
    "Next lets convert the JSON into a Docling Document and chunk it."
   ]
  },
  {
   "cell_type": "code",
   "execution_count": 18,
   "id": "9712c9ab-02fc-4fb6-87da-433c7f8d71ae",
   "metadata": {},
   "outputs": [],
   "source": [
    "all_chunks = []\n",
    "for file in files:\n",
    "    try:\n",
    "        doc = DocumentConverter().convert(source=file).document\n",
    "        chunk_iter = chunker.chunk(dl_doc=doc)\n",
    "        chunks = [chunker.contextualize(chunk=chunk) for chunk in chunk_iter]\n",
    "        for chunk in chunks:\n",
    "            c = dict(chunk=chunk, file=file.stem)\n",
    "            all_chunks.append(c)\n",
    "    except ConversionError as e:\n",
    "        print(f\"Skipping file {file}\")"
   ]
  },
  {
   "cell_type": "markdown",
   "id": "c1ccf428-ce84-4c78-94fb-ba7059490eb8",
   "metadata": {},
   "source": [
    "### View the Chunks\n",
    "\n",
    "To view the chunks, run through the following cell. As you can see the document is broken into small pieces with metadata about the chunk based on the document's format"
   ]
  },
  {
   "cell_type": "code",
   "execution_count": 19,
   "id": "8b0176cc-1b1e-4dc9-99e8-c3afcf7a1483",
   "metadata": {},
   "outputs": [],
   "source": [
    "# print(all_chunks)"
   ]
  },
  {
   "cell_type": "markdown",
   "id": "e0acd434-8808-4d2f-8851-cf1faa9b1ab8",
   "metadata": {},
   "source": [
    "### Save the chunks to a JSON file\n",
    "\n",
    "Alls chunks are saved to a JSON file called `chunks.jsonl` in `CHUNKING_OUTPUT_DIR`. This file is one of the inputs father below when we create the seed dataset for SDG."
   ]
  },
  {
   "cell_type": "code",
   "execution_count": 22,
   "id": "82d801c4-e052-4c9f-9e1c-e8b6c1889790",
   "metadata": {},
   "outputs": [],
   "source": [
    "chunks_file_path = CHUNKING_OUTPUT_DIR / \"chunks.jsonl\"\n",
    "with open(chunks_file_path, \"w\", encoding=\"utf-8\") as file:\n",
    "    for chunk in all_chunks:\n",
    "        json.dump(chunk, file)\n",
    "        file.write(\"\\n\")"
   ]
  },
  {
   "cell_type": "code",
   "execution_count": null,
   "id": "2a165c38-843b-4c89-a8ad-6195b998e284",
   "metadata": {},
   "outputs": [],
   "source": [
    "# authoring"
   ]
  },
  {
   "cell_type": "code",
   "execution_count": null,
   "id": "5149dbbf-5601-4aa5-b1e9-e454ea0a4529",
   "metadata": {},
   "outputs": [],
   "source": [
    "# sdg"
   ]
  },
  {
   "cell_type": "markdown",
   "id": "6587c40f-fd22-4c7f-af88-f4ad803ba9da",
   "metadata": {},
   "source": [
    "## Create Seed Dataset for SDG\n",
    "\n",
    "This notebook combines the contents from the qna.yaml and the chunks from the source document to create a seed dataset for the synthetic data generation process.\n",
    "\n",
    "To run this step you need a directory that contains `chunks.jsonl` and a `qna.yaml` in the same directory.\n",
    "\n",
    "This step outputs a `seed.jsonl` file in the `SDG_OUTPUT_DIR` that you set."
   ]
  },
  {
   "cell_type": "code",
   "execution_count": 3,
   "id": "b0ad94da-55dd-42b6-9857-c450da89a17b",
   "metadata": {
    "scrolled": true
   },
   "outputs": [
    {
     "name": "stdout",
     "output_type": "stream",
     "text": [
      "Requirement already satisfied: datasets in ./venv/lib/python3.12/site-packages (3.5.1)\n",
      "Requirement already satisfied: transformers in ./venv/lib/python3.12/site-packages (4.51.3)\n",
      "Requirement already satisfied: filelock in ./venv/lib/python3.12/site-packages (from datasets) (3.18.0)\n",
      "Requirement already satisfied: numpy>=1.17 in ./venv/lib/python3.12/site-packages (from datasets) (2.2.5)\n",
      "Requirement already satisfied: pyarrow>=15.0.0 in ./venv/lib/python3.12/site-packages (from datasets) (20.0.0)\n",
      "Requirement already satisfied: dill<0.3.9,>=0.3.0 in ./venv/lib/python3.12/site-packages (from datasets) (0.3.8)\n",
      "Requirement already satisfied: pandas in ./venv/lib/python3.12/site-packages (from datasets) (2.2.3)\n",
      "Requirement already satisfied: requests>=2.32.2 in ./venv/lib/python3.12/site-packages (from datasets) (2.32.3)\n",
      "Requirement already satisfied: tqdm>=4.66.3 in ./venv/lib/python3.12/site-packages (from datasets) (4.67.1)\n",
      "Requirement already satisfied: xxhash in ./venv/lib/python3.12/site-packages (from datasets) (3.5.0)\n",
      "Requirement already satisfied: multiprocess<0.70.17 in ./venv/lib/python3.12/site-packages (from datasets) (0.70.16)\n",
      "Requirement already satisfied: fsspec<=2025.3.0,>=2023.1.0 in ./venv/lib/python3.12/site-packages (from fsspec[http]<=2025.3.0,>=2023.1.0->datasets) (2025.3.0)\n",
      "Requirement already satisfied: aiohttp in ./venv/lib/python3.12/site-packages (from datasets) (3.11.18)\n",
      "Requirement already satisfied: huggingface-hub>=0.24.0 in ./venv/lib/python3.12/site-packages (from datasets) (0.30.2)\n",
      "Requirement already satisfied: packaging in ./venv/lib/python3.12/site-packages (from datasets) (25.0)\n",
      "Requirement already satisfied: pyyaml>=5.1 in ./venv/lib/python3.12/site-packages (from datasets) (6.0.2)\n",
      "Requirement already satisfied: regex!=2019.12.17 in ./venv/lib/python3.12/site-packages (from transformers) (2024.11.6)\n",
      "Requirement already satisfied: tokenizers<0.22,>=0.21 in ./venv/lib/python3.12/site-packages (from transformers) (0.21.1)\n",
      "Requirement already satisfied: safetensors>=0.4.3 in ./venv/lib/python3.12/site-packages (from transformers) (0.5.3)\n",
      "Requirement already satisfied: aiohappyeyeballs>=2.3.0 in ./venv/lib/python3.12/site-packages (from aiohttp->datasets) (2.6.1)\n",
      "Requirement already satisfied: aiosignal>=1.1.2 in ./venv/lib/python3.12/site-packages (from aiohttp->datasets) (1.3.2)\n",
      "Requirement already satisfied: attrs>=17.3.0 in ./venv/lib/python3.12/site-packages (from aiohttp->datasets) (25.3.0)\n",
      "Requirement already satisfied: frozenlist>=1.1.1 in ./venv/lib/python3.12/site-packages (from aiohttp->datasets) (1.6.0)\n",
      "Requirement already satisfied: multidict<7.0,>=4.5 in ./venv/lib/python3.12/site-packages (from aiohttp->datasets) (6.4.3)\n",
      "Requirement already satisfied: propcache>=0.2.0 in ./venv/lib/python3.12/site-packages (from aiohttp->datasets) (0.3.1)\n",
      "Requirement already satisfied: yarl<2.0,>=1.17.0 in ./venv/lib/python3.12/site-packages (from aiohttp->datasets) (1.20.0)\n",
      "Requirement already satisfied: typing-extensions>=3.7.4.3 in ./venv/lib/python3.12/site-packages (from huggingface-hub>=0.24.0->datasets) (4.13.2)\n",
      "Requirement already satisfied: charset-normalizer<4,>=2 in ./venv/lib/python3.12/site-packages (from requests>=2.32.2->datasets) (3.4.2)\n",
      "Requirement already satisfied: idna<4,>=2.5 in ./venv/lib/python3.12/site-packages (from requests>=2.32.2->datasets) (3.10)\n",
      "Requirement already satisfied: urllib3<3,>=1.21.1 in ./venv/lib/python3.12/site-packages (from requests>=2.32.2->datasets) (2.4.0)\n",
      "Requirement already satisfied: certifi>=2017.4.17 in ./venv/lib/python3.12/site-packages (from requests>=2.32.2->datasets) (2025.4.26)\n",
      "Requirement already satisfied: python-dateutil>=2.8.2 in ./venv/lib/python3.12/site-packages (from pandas->datasets) (2.9.0.post0)\n",
      "Requirement already satisfied: pytz>=2020.1 in ./venv/lib/python3.12/site-packages (from pandas->datasets) (2025.2)\n",
      "Requirement already satisfied: tzdata>=2022.7 in ./venv/lib/python3.12/site-packages (from pandas->datasets) (2025.2)\n",
      "Requirement already satisfied: six>=1.5 in ./venv/lib/python3.12/site-packages (from python-dateutil>=2.8.2->pandas->datasets) (1.17.0)\n",
      "\n",
      "\u001b[1m[\u001b[0m\u001b[34;49mnotice\u001b[0m\u001b[1;39;49m]\u001b[0m\u001b[39;49m A new release of pip is available: \u001b[0m\u001b[31;49m25.0.1\u001b[0m\u001b[39;49m -> \u001b[0m\u001b[32;49m25.1.1\u001b[0m\n",
      "\u001b[1m[\u001b[0m\u001b[34;49mnotice\u001b[0m\u001b[1;39;49m]\u001b[0m\u001b[39;49m To update, run: \u001b[0m\u001b[32;49mpip install --upgrade pip\u001b[0m\n"
     ]
    }
   ],
   "source": [
    "!pip install datasets transformers"
   ]
  },
  {
   "cell_type": "code",
   "execution_count": 4,
   "id": "ab83bf2c-c588-4f84-a54d-6c48b0440f7e",
   "metadata": {},
   "outputs": [],
   "source": [
    "from utils.create_seed_dataset import get_seed_dataset"
   ]
  },
  {
   "cell_type": "code",
   "execution_count": 5,
   "id": "8a987256-81b9-4b3a-8002-92eadd1764bd",
   "metadata": {},
   "outputs": [
    {
     "name": "stderr",
     "output_type": "stream",
     "text": [
      "You are using the default legacy behaviour of the <class 'transformers.models.llama.tokenization_llama_fast.LlamaTokenizerFast'>. This is expected, and simply means that the `legacy` (previous) behavior will be used so nothing changes for you. If you want to use the new behaviour, set `legacy=False`. This should only be set if you understand what it means, and thoroughly read the reason why this was added as explained in https://github.com/huggingface/transformers/pull/24565 - if you loaded a llama tokenizer from a GGUF file you can ignore this message.\n"
     ]
    },
    {
     "data": {
      "application/vnd.jupyter.widget-view+json": {
       "model_id": "46d1d556378846f9a96ed8e5dd5fe8b4",
       "version_major": 2,
       "version_minor": 0
      },
      "text/plain": [
       "Map:   0%|          | 0/31 [00:00<?, ? examples/s]"
      ]
     },
     "metadata": {},
     "output_type": "display_data"
    },
    {
     "data": {
      "application/vnd.jupyter.widget-view+json": {
       "model_id": "372d86f12dbf4076956c9eda5425f5a4",
       "version_major": 2,
       "version_minor": 0
      },
      "text/plain": [
       "Map:   0%|          | 0/31 [00:00<?, ? examples/s]"
      ]
     },
     "metadata": {},
     "output_type": "display_data"
    },
    {
     "data": {
      "application/vnd.jupyter.widget-view+json": {
       "model_id": "2206ecd0c57f4ffca8b137225fe93c1e",
       "version_major": 2,
       "version_minor": 0
      },
      "text/plain": [
       "Map:   0%|          | 0/31 [00:00<?, ? examples/s]"
      ]
     },
     "metadata": {},
     "output_type": "display_data"
    },
    {
     "data": {
      "application/vnd.jupyter.widget-view+json": {
       "model_id": "4b715dabee724c0aa008be349058b3f1",
       "version_major": 2,
       "version_minor": 0
      },
      "text/plain": [
       "Map:   0%|          | 0/31 [00:00<?, ? examples/s]"
      ]
     },
     "metadata": {},
     "output_type": "display_data"
    },
    {
     "data": {
      "application/vnd.jupyter.widget-view+json": {
       "model_id": "346815cebcb943d5b936c248ef8a823a",
       "version_major": 2,
       "version_minor": 0
      },
      "text/plain": [
       "Map:   0%|          | 0/31 [00:00<?, ? examples/s]"
      ]
     },
     "metadata": {},
     "output_type": "display_data"
    },
    {
     "data": {
      "application/vnd.jupyter.widget-view+json": {
       "model_id": "a1fa718544f64e5ba06a1671e1146e67",
       "version_major": 2,
       "version_minor": 0
      },
      "text/plain": [
       "Map:   0%|          | 0/155 [00:00<?, ? examples/s]"
      ]
     },
     "metadata": {},
     "output_type": "display_data"
    },
    {
     "data": {
      "application/vnd.jupyter.widget-view+json": {
       "model_id": "93d5927324684c289efffeff6e834491",
       "version_major": 2,
       "version_minor": 0
      },
      "text/plain": [
       "Filter:   0%|          | 0/155 [00:00<?, ? examples/s]"
      ]
     },
     "metadata": {},
     "output_type": "display_data"
    }
   ],
   "source": [
    "seed_data = get_seed_dataset(CHUNKING_OUTPUT_DIR, SEED_EXAMPLE_OUTPUT_DIR)"
   ]
  },
  {
   "cell_type": "markdown",
   "id": "8a64be03-d655-4bbc-b405-7e438dc6f5b4",
   "metadata": {},
   "source": [
    "## Save the seed data to a .JSONL file\n",
    "\n",
    "Notebooks like the [knowledge_generation_and_mixing](https://github.com/Red-Hat-AI-Innovation-Team/sdg_hub/blob/main/examples/instructlab/knowledge/knowledge_generation_and_mixing.ipynb) notebook take seed_data.jsonl as the input"
   ]
  },
  {
   "cell_type": "code",
   "execution_count": 6,
   "id": "6f6e9686-acc6-49cd-bf83-f286fbd683e1",
   "metadata": {},
   "outputs": [
    {
     "data": {
      "application/vnd.jupyter.widget-view+json": {
       "model_id": "44369cadc31e44488a593a758ce7d75d",
       "version_major": 2,
       "version_minor": 0
      },
      "text/plain": [
       "Creating json from Arrow format:   0%|          | 0/1 [00:00<?, ?ba/s]"
      ]
     },
     "metadata": {},
     "output_type": "display_data"
    },
    {
     "data": {
      "text/plain": [
       "292788"
      ]
     },
     "execution_count": 6,
     "metadata": {},
     "output_type": "execute_result"
    }
   ],
   "source": [
    "seed_data.to_json(f'{SDG_OUTPUT_DIR}/seed_data.jsonl', orient='records', lines=True)"
   ]
  }
 ],
 "metadata": {
  "kernelspec": {
   "display_name": "Python 3 (ipykernel)",
   "language": "python",
   "name": "python3"
  },
  "language_info": {
   "codemirror_mode": {
    "name": "ipython",
    "version": 3
   },
   "file_extension": ".py",
   "mimetype": "text/x-python",
   "name": "python",
   "nbconvert_exporter": "python",
   "pygments_lexer": "ipython3",
   "version": "3.12.10"
  }
 },
 "nbformat": 4,
 "nbformat_minor": 5
}
