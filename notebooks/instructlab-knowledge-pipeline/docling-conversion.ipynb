{
 "cells": [
  {
   "cell_type": "markdown",
   "id": "a8ec10d3-b864-4ba5-999b-76e32a85d395",
   "metadata": {},
   "source": [
    "This notebook uses [Docling](https://docling-project.github.io/docling/) to convert any type of document into a Docling Document. A Docling Document is the representation of the document after conversion that can be exported as JSON. The JSON output of this notebook can then be used in others such as one that uses Docling's chunking methods."
   ]
  },
  {
   "cell_type": "code",
   "execution_count": 18,
   "id": "d9936ba1-184b-46a6-9650-123bab77d483",
   "metadata": {
    "papermill": {
     "duration": 3.345431,
     "end_time": "2025-04-10T14:51:05.910094",
     "exception": false,
     "start_time": "2025-04-10T14:51:02.564663",
     "status": "completed"
    },
    "tags": []
   },
   "outputs": [],
   "source": [
    "from docling.document_converter import DocumentConverter, ConversionError, PdfFormatOption\n",
    "from docling.datamodel.base_models import InputFormat\n",
    "from docling.datamodel.pipeline_options import PdfPipelineOptions\n",
    "import json\n",
    "from pathlib import Path"
   ]
  },
  {
   "cell_type": "markdown",
   "id": "bdd383d8-6129-432d-8431-baca497811ad",
   "metadata": {},
   "source": [
    "First we set the paths for the documents we want to convert and where the JSON output should live."
   ]
  },
  {
   "cell_type": "code",
   "execution_count": 7,
   "id": "6b674cd0-b6d1-4b11-9da1-9ba574bd372b",
   "metadata": {
    "papermill": {
     "duration": 0.003659,
     "end_time": "2025-04-10T14:51:05.914616",
     "exception": false,
     "start_time": "2025-04-10T14:51:05.910957",
     "status": "completed"
    },
    "tags": []
   },
   "outputs": [
    {
     "name": "stdout",
     "output_type": "stream",
     "text": [
      "Files to convert: [PosixPath('temp/2-tables-one-page-cargo-theft-report.pdf'), PosixPath('temp/US-Youth-Soccer-Travel-Policy.pdf'), PosixPath('temp/cargo-theft-report-2018.pdf'), PosixPath('temp/dir2/top-100-movies.pdf')]\n"
     ]
    }
   ],
   "source": [
    "doc_path = Path(\"/path/to/documents\")\n",
    "output_dir = Path(\"/path/to/output/dir\")\n",
    "\n",
    "files = []\n",
    "\n",
    "if doc_path.is_file():\n",
    "    files = [doc_path]\n",
    "else:\n",
    "    files = list(doc_path.rglob(\"*.pdf\"))\n",
    "print(f\"Files to convert: {files}\")"
   ]
  },
  {
   "cell_type": "markdown",
   "id": "544ad3a3-a6fb-44b1-97f5-ea7e157bf816",
   "metadata": {
    "tags": []
   },
   "source": [
    "Next we set the configuration options for our conversion pipeline. The PDF Conversion options set here are the defaults. More information about pipeline configuration can be found [Docling](https://docling-project.github.io/docling/)."
   ]
  },
  {
   "cell_type": "code",
   "execution_count": 19,
   "id": "65665e28-de95-4ab3-82b1-d2fd5297be2b",
   "metadata": {
    "tags": []
   },
   "outputs": [],
   "source": [
    "pipeline_options = PdfPipelineOptions()\n",
    "\n",
    "doc_converter = DocumentConverter(\n",
    "     format_options={\n",
    "         InputFormat.PDF: PdfFormatOption(\n",
    "             pipeline_options=pipeline_options\n",
    "         )\n",
    "     }\n",
    ")"
   ]
  },
  {
   "cell_type": "markdown",
   "id": "8597e59c-d6fd-4290-8318-17f061576042",
   "metadata": {},
   "source": [
    "Finally we convert every document into Docling JSON as long as it is a valid file type to be converted"
   ]
  },
  {
   "cell_type": "code",
   "execution_count": 21,
   "id": "052ecff2-c3f0-492d-9656-272cac255fbc",
   "metadata": {
    "papermill": {
     "duration": 7.513719,
     "end_time": "2025-04-10T14:51:13.429057",
     "exception": false,
     "start_time": "2025-04-10T14:51:05.915338",
     "status": "completed"
    },
    "tags": []
   },
   "outputs": [
    {
     "name": "stdout",
     "output_type": "stream",
     "text": [
      "Path of JSON output is: /Users/amaredia/dev/examples/notebooks/preprocessing-sdg/output/2-tables-one-page-cargo-theft-report.json\n",
      "Path of JSON output is: /Users/amaredia/dev/examples/notebooks/preprocessing-sdg/output/US-Youth-Soccer-Travel-Policy.json\n",
      "Path of JSON output is: /Users/amaredia/dev/examples/notebooks/preprocessing-sdg/output/cargo-theft-report-2018.json\n",
      "Path of JSON output is: /Users/amaredia/dev/examples/notebooks/preprocessing-sdg/output/top-100-movies.json\n"
     ]
    }
   ],
   "source": [
    "for file in files:\n",
    "    try:\n",
    "        doc = doc_converter.convert(source=file).document\n",
    "        doc_dict = doc.export_to_dict()\n",
    "        json_output_path = output_dir / f\"{file.stem}.json\"\n",
    "        with open(json_output_path, \"w\") as f:\n",
    "            json.dump(doc_dict, f)\n",
    "            print(f\"Path of JSON output is: {Path(json_output_path).resolve()}\")\n",
    "    except ConversionError as e:\n",
    "        print(f\"Skipping file {file}\")"
   ]
  },
  {
   "cell_type": "code",
   "execution_count": null,
   "id": "92ac4630-a4d6-4941-8df1-b5648a524d06",
   "metadata": {
    "papermill": {
     "duration": 0.000715,
     "end_time": "2025-04-10T14:51:13.443312",
     "exception": false,
     "start_time": "2025-04-10T14:51:13.442597",
     "status": "completed"
    },
    "tags": []
   },
   "outputs": [],
   "source": []
  }
 ],
 "metadata": {
  "kernelspec": {
   "display_name": "Python 3 (ipykernel)",
   "language": "python",
   "name": "python3"
  },
  "language_info": {
   "codemirror_mode": {
    "name": "ipython",
    "version": 3
   },
   "file_extension": ".py",
   "mimetype": "text/x-python",
   "name": "python",
   "nbconvert_exporter": "python",
   "pygments_lexer": "ipython3",
   "version": "3.12.10"
  },
  "papermill": {
   "default_parameters": {},
   "duration": 15.453314,
   "end_time": "2025-04-10T14:51:16.059733",
   "environment_variables": {},
   "exception": null,
   "input_path": "/Users/amaredia/dev/sdg_hub/conversion.ipynb",
   "output_path": "/Users/amaredia/dev/sdg_hub/conversion.ipynb",
   "parameters": {},
   "start_time": "2025-04-10T14:51:00.606419",
   "version": "2.6.0"
  }
 },
 "nbformat": 4,
 "nbformat_minor": 5
}
